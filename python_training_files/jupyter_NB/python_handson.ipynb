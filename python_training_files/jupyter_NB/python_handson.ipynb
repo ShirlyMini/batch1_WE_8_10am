{
 "cells": [
  {
   "cell_type": "markdown",
   "id": "73a42359",
   "metadata": {},
   "source": [
    "# DAY 1"
   ]
  },
  {
   "cell_type": "markdown",
   "id": "f7b1751e",
   "metadata": {},
   "source": [
    "To run each cell give shift+ enter"
   ]
  },
  {
   "cell_type": "markdown",
   "id": "878b5131",
   "metadata": {},
   "source": [
    "what python?\n",
    "\n",
    "    1. high level general purpose programming language\n",
    "    \n",
    "Merits:\n",
    "\n",
    "    1. open source (https://www.python.org/)\n",
    "    2. platform independent(different OS)\n",
    "    3. simplicity in coding\n",
    "    \n",
    "Why python?\n",
    "\n",
    "    1. developement in Datascience and AI\n",
    "    \n",
    "offical doc : https://docs.python.org/3/"
   ]
  },
  {
   "cell_type": "markdown",
   "id": "57998f95",
   "metadata": {},
   "source": [
    "# print statement\n"
   ]
  },
  {
   "cell_type": "code",
   "execution_count": 10,
   "id": "1c3c71f2",
   "metadata": {},
   "outputs": [
    {
     "name": "stdout",
     "output_type": "stream",
     "text": [
      "Hello python!!!\n"
     ]
    }
   ],
   "source": [
    "print(\"Hello python!!!\")"
   ]
  },
  {
   "cell_type": "code",
   "execution_count": 11,
   "id": "26aeb82e",
   "metadata": {},
   "outputs": [
    {
     "name": "stdout",
     "output_type": "stream",
     "text": [
      "Hello python!!!\n"
     ]
    }
   ],
   "source": [
    "print('Hello python!!!')"
   ]
  },
  {
   "cell_type": "code",
   "execution_count": 12,
   "id": "d2d9375b",
   "metadata": {},
   "outputs": [
    {
     "name": "stdout",
     "output_type": "stream",
     "text": [
      "Hello \"python\"!!!\n"
     ]
    }
   ],
   "source": [
    "print('Hello \"python\"!!!')"
   ]
  },
  {
   "cell_type": "code",
   "execution_count": 13,
   "id": "014188c5",
   "metadata": {},
   "outputs": [
    {
     "name": "stdout",
     "output_type": "stream",
     "text": [
      "Hello 'python'!!!\n"
     ]
    }
   ],
   "source": [
    "print(\"Hello 'python'!!!\")"
   ]
  },
  {
   "cell_type": "code",
   "execution_count": 14,
   "id": "e4722a19",
   "metadata": {},
   "outputs": [
    {
     "name": "stdout",
     "output_type": "stream",
     "text": [
      "It is straightforward to create an ordered dictionary \n",
      "variant that remembers the order the keys were last inserted. \n",
      "If a new entry overwrites an existing entry, the original insertion position is changed and moved to the end:\n"
     ]
    }
   ],
   "source": [
    "print(\"\"\"It is straightforward to create an ordered dictionary \n",
    "variant that remembers the order the keys were last inserted. \n",
    "If a new entry overwrites an existing entry, the original insertion position is changed and moved to the end:\"\"\")"
   ]
  },
  {
   "cell_type": "code",
   "execution_count": 15,
   "id": "119e7bb7",
   "metadata": {},
   "outputs": [
    {
     "name": "stdout",
     "output_type": "stream",
     "text": [
      "It is straightforward to create an ordered dictionary \n",
      "variant that remembers the order the keys were last inserted. \n",
      "If a new entry overwrites an existing entry, the original insertion position is changed and moved to the end:\n"
     ]
    }
   ],
   "source": [
    "print('''It is straightforward to create an ordered dictionary \n",
    "variant that remembers the order the keys were last inserted. \n",
    "If a new entry overwrites an existing entry, the original insertion position is changed and moved to the end:''')"
   ]
  },
  {
   "cell_type": "code",
   "execution_count": 16,
   "id": "bfbd27df",
   "metadata": {},
   "outputs": [
    {
     "data": {
      "text/plain": [
       "'It is straightforward to create an ordered dictionary \\nvariant that remembers the order the keys were last inserted. \\nIf a new entry overwrites an existing entry, the original insertion position is changed and moved to the end:'"
      ]
     },
     "execution_count": 16,
     "metadata": {},
     "output_type": "execute_result"
    }
   ],
   "source": [
    "\"\"\"It is straightforward to create an ordered dictionary \n",
    "variant that remembers the order the keys were last inserted. \n",
    "If a new entry overwrites an existing entry, the original insertion position is changed and moved to the end:\"\"\""
   ]
  },
  {
   "cell_type": "code",
   "execution_count": 17,
   "id": "18fdcbf6",
   "metadata": {},
   "outputs": [],
   "source": [
    "# comments\n",
    "# comment1\n",
    "# comment2"
   ]
  },
  {
   "cell_type": "code",
   "execution_count": 18,
   "id": "f14ed077",
   "metadata": {},
   "outputs": [],
   "source": [
    "#print(\"hello python\", sep=\"\", end=\"\") # function\n"
   ]
  },
  {
   "cell_type": "markdown",
   "id": "2b253c62",
   "metadata": {},
   "source": [
    "# keywords and variables"
   ]
  },
  {
   "cell_type": "markdown",
   "id": "4894bafb",
   "metadata": {},
   "source": [
    "keywords -  reserved words in python\n",
    "variable - stores the data, allocates the memory, every data that you are storing in variable will have a datatype."
   ]
  },
  {
   "cell_type": "code",
   "execution_count": 19,
   "id": "ff12f4dd",
   "metadata": {},
   "outputs": [
    {
     "name": "stdout",
     "output_type": "stream",
     "text": [
      "['False', 'None', 'True', 'and', 'as', 'assert', 'async', 'await', 'break', 'class', 'continue', 'def', 'del', 'elif', 'else', 'except', 'finally', 'for', 'from', 'global', 'if', 'import', 'in', 'is', 'lambda', 'nonlocal', 'not', 'or', 'pass', 'raise', 'return', 'try', 'while', 'with', 'yield']\n"
     ]
    }
   ],
   "source": [
    "import keyword\n",
    "print(keyword.kwlist)"
   ]
  },
  {
   "cell_type": "code",
   "execution_count": 20,
   "id": "3ceb4cf7",
   "metadata": {},
   "outputs": [
    {
     "data": {
      "text/plain": [
       "str"
      ]
     },
     "execution_count": 20,
     "metadata": {},
     "output_type": "execute_result"
    }
   ],
   "source": [
    "#variable - stores the data, allocates the memory, every data that you are storing in variable will have a datatype.\n",
    "a=10# int\n",
    "a=\"ten\"# str\n",
    "type(a)\n",
    "# dynamically typed programming languague"
   ]
  },
  {
   "cell_type": "markdown",
   "id": "755b5ef1",
   "metadata": {},
   "source": [
    "# datatypes"
   ]
  },
  {
   "cell_type": "raw",
   "id": "e1244774",
   "metadata": {},
   "source": [
    "text type: str\n",
    "number type : int, float, complex (1+2j)\n",
    "sequence type : list, tuple\n",
    "mapping type: dict\n",
    "set type: set\n",
    "boolean type:bool"
   ]
  },
  {
   "cell_type": "code",
   "execution_count": 21,
   "id": "4ed05c7a",
   "metadata": {},
   "outputs": [],
   "source": [
    "x=100\n",
    "s=\"string\"\n",
    "y=12.5\n",
    "b=True"
   ]
  },
  {
   "cell_type": "code",
   "execution_count": 22,
   "id": "b5137385",
   "metadata": {},
   "outputs": [
    {
     "data": {
      "text/plain": [
       "int"
      ]
     },
     "execution_count": 22,
     "metadata": {},
     "output_type": "execute_result"
    }
   ],
   "source": [
    "type(x)"
   ]
  },
  {
   "cell_type": "code",
   "execution_count": 23,
   "id": "ee2fd386",
   "metadata": {},
   "outputs": [
    {
     "data": {
      "text/plain": [
       "str"
      ]
     },
     "execution_count": 23,
     "metadata": {},
     "output_type": "execute_result"
    }
   ],
   "source": [
    "type(s)"
   ]
  },
  {
   "cell_type": "code",
   "execution_count": 24,
   "id": "cd9e9c6b",
   "metadata": {},
   "outputs": [
    {
     "data": {
      "text/plain": [
       "float"
      ]
     },
     "execution_count": 24,
     "metadata": {},
     "output_type": "execute_result"
    }
   ],
   "source": [
    "type(y)"
   ]
  },
  {
   "cell_type": "code",
   "execution_count": 25,
   "id": "5d1f53e0",
   "metadata": {},
   "outputs": [
    {
     "data": {
      "text/plain": [
       "bool"
      ]
     },
     "execution_count": 25,
     "metadata": {},
     "output_type": "execute_result"
    }
   ],
   "source": [
    "type(b)"
   ]
  },
  {
   "cell_type": "code",
   "execution_count": 26,
   "id": "710a5865",
   "metadata": {},
   "outputs": [],
   "source": [
    "a=100\n",
    "b=200\n",
    "c=\"welcome\"\n",
    "d=12.25"
   ]
  },
  {
   "cell_type": "code",
   "execution_count": 27,
   "id": "8336ec0d",
   "metadata": {},
   "outputs": [
    {
     "name": "stdout",
     "output_type": "stream",
     "text": [
      "100\n",
      "200\n",
      "welcome\n",
      "12.25\n"
     ]
    }
   ],
   "source": [
    "print(a)\n",
    "print(b)\n",
    "print(c)\n",
    "print(d)"
   ]
  },
  {
   "cell_type": "code",
   "execution_count": 28,
   "id": "e3ea5ab1",
   "metadata": {},
   "outputs": [
    {
     "name": "stdout",
     "output_type": "stream",
     "text": [
      "100 200 welcome 12.25\n"
     ]
    }
   ],
   "source": [
    "print(a,b,c,d)"
   ]
  },
  {
   "cell_type": "code",
   "execution_count": 29,
   "id": "072eab13",
   "metadata": {},
   "outputs": [
    {
     "name": "stdout",
     "output_type": "stream",
     "text": [
      "100 100 100\n"
     ]
    }
   ],
   "source": [
    "a=100\n",
    "b=100\n",
    "c=100\n",
    "print(a,b,c)"
   ]
  },
  {
   "cell_type": "code",
   "execution_count": 30,
   "id": "9b1be1db",
   "metadata": {},
   "outputs": [
    {
     "name": "stdout",
     "output_type": "stream",
     "text": [
      "100 100 100\n"
     ]
    }
   ],
   "source": [
    "a=b=c=100\n",
    "print(a,b,c)"
   ]
  },
  {
   "cell_type": "code",
   "execution_count": 31,
   "id": "91ada6f9",
   "metadata": {},
   "outputs": [
    {
     "name": "stdout",
     "output_type": "stream",
     "text": [
      "100 200 300\n"
     ]
    }
   ],
   "source": [
    "a=100\n",
    "b=200\n",
    "c=300\n",
    "print(a,b,c)"
   ]
  },
  {
   "cell_type": "code",
   "execution_count": 32,
   "id": "29ba19d0",
   "metadata": {},
   "outputs": [
    {
     "name": "stdout",
     "output_type": "stream",
     "text": [
      "100 200 300\n"
     ]
    }
   ],
   "source": [
    "a,b,c=100,200,300\n",
    "print(a,b,c)"
   ]
  },
  {
   "cell_type": "code",
   "execution_count": 33,
   "id": "33fbc220",
   "metadata": {},
   "outputs": [
    {
     "name": "stdout",
     "output_type": "stream",
     "text": [
      "100 200\n",
      "200 100\n"
     ]
    }
   ],
   "source": [
    "a,b=100,200\n",
    "print(a,b)\n",
    "a,b=b,a\n",
    "print(a,b)"
   ]
  },
  {
   "cell_type": "code",
   "execution_count": 34,
   "id": "79d6dfa2",
   "metadata": {},
   "outputs": [
    {
     "name": "stdout",
     "output_type": "stream",
     "text": [
      "200 100\n"
     ]
    }
   ],
   "source": [
    "a,b=100,200\n",
    "print(b,a)"
   ]
  },
  {
   "cell_type": "code",
   "execution_count": 35,
   "id": "3484c3a0",
   "metadata": {},
   "outputs": [],
   "source": [
    "a=100\n",
    "b=\"welcome\""
   ]
  },
  {
   "cell_type": "code",
   "execution_count": 36,
   "id": "227a0253",
   "metadata": {},
   "outputs": [
    {
     "data": {
      "text/plain": [
       "100"
      ]
     },
     "execution_count": 36,
     "metadata": {},
     "output_type": "execute_result"
    }
   ],
   "source": [
    "a"
   ]
  },
  {
   "cell_type": "code",
   "execution_count": 37,
   "id": "ab8c4e90",
   "metadata": {},
   "outputs": [
    {
     "data": {
      "text/plain": [
       "'welcome'"
      ]
     },
     "execution_count": 37,
     "metadata": {},
     "output_type": "execute_result"
    }
   ],
   "source": [
    "b"
   ]
  },
  {
   "cell_type": "code",
   "execution_count": 38,
   "id": "73b4a626",
   "metadata": {},
   "outputs": [
    {
     "data": {
      "text/plain": [
       "100"
      ]
     },
     "execution_count": 38,
     "metadata": {},
     "output_type": "execute_result"
    }
   ],
   "source": [
    "a"
   ]
  },
  {
   "cell_type": "code",
   "execution_count": 39,
   "id": "e988b10a",
   "metadata": {},
   "outputs": [
    {
     "data": {
      "text/plain": [
       "100"
      ]
     },
     "execution_count": 39,
     "metadata": {},
     "output_type": "execute_result"
    }
   ],
   "source": [
    "a"
   ]
  },
  {
   "cell_type": "code",
   "execution_count": 40,
   "id": "cfe6c413",
   "metadata": {},
   "outputs": [],
   "source": [
    "del a"
   ]
  },
  {
   "cell_type": "code",
   "execution_count": 41,
   "id": "c1be9e23",
   "metadata": {},
   "outputs": [
    {
     "ename": "NameError",
     "evalue": "name 'a' is not defined",
     "output_type": "error",
     "traceback": [
      "\u001b[1;31m---------------------------------------------------------------------------\u001b[0m",
      "\u001b[1;31mNameError\u001b[0m                                 Traceback (most recent call last)",
      "Cell \u001b[1;32mIn[41], line 1\u001b[0m\n\u001b[1;32m----> 1\u001b[0m a\n",
      "\u001b[1;31mNameError\u001b[0m: name 'a' is not defined"
     ]
    }
   ],
   "source": [
    "a"
   ]
  },
  {
   "cell_type": "code",
   "execution_count": null,
   "id": "cf52a5eb",
   "metadata": {},
   "outputs": [],
   "source": [
    "a=100"
   ]
  },
  {
   "cell_type": "code",
   "execution_count": null,
   "id": "58854969",
   "metadata": {},
   "outputs": [],
   "source": [
    "a"
   ]
  },
  {
   "cell_type": "code",
   "execution_count": null,
   "id": "b500a3af",
   "metadata": {},
   "outputs": [],
   "source": [
    "del a,b"
   ]
  },
  {
   "cell_type": "code",
   "execution_count": null,
   "id": "b7a27762",
   "metadata": {},
   "outputs": [],
   "source": [
    "a"
   ]
  },
  {
   "cell_type": "code",
   "execution_count": null,
   "id": "2f222a5b",
   "metadata": {},
   "outputs": [],
   "source": [
    "b"
   ]
  },
  {
   "cell_type": "markdown",
   "id": "0a5acd71",
   "metadata": {},
   "source": [
    "# Operator"
   ]
  },
  {
   "cell_type": "raw",
   "id": "a1f632ba",
   "metadata": {},
   "source": [
    "1. Arithmetic(+ - * / // %)\n",
    "2. relational(< > <= >= == !=)\n",
    "3. logical (and or not)"
   ]
  },
  {
   "cell_type": "code",
   "execution_count": null,
   "id": "dd6782e2",
   "metadata": {},
   "outputs": [],
   "source": [
    "a=5\n",
    "b=2"
   ]
  },
  {
   "cell_type": "code",
   "execution_count": null,
   "id": "f535284c",
   "metadata": {},
   "outputs": [],
   "source": [
    "a+b"
   ]
  },
  {
   "cell_type": "code",
   "execution_count": null,
   "id": "86271dc4",
   "metadata": {},
   "outputs": [],
   "source": [
    "a-b"
   ]
  },
  {
   "cell_type": "code",
   "execution_count": null,
   "id": "02f88f1b",
   "metadata": {},
   "outputs": [],
   "source": [
    "a*b"
   ]
  },
  {
   "cell_type": "code",
   "execution_count": null,
   "id": "de6e77b6",
   "metadata": {},
   "outputs": [],
   "source": [
    "a/b#return float"
   ]
  },
  {
   "cell_type": "code",
   "execution_count": null,
   "id": "4c0cdaf8",
   "metadata": {},
   "outputs": [],
   "source": [
    "a//b# quotient value"
   ]
  },
  {
   "cell_type": "code",
   "execution_count": null,
   "id": "8cb7e327",
   "metadata": {},
   "outputs": [],
   "source": [
    "a%b # remainder value"
   ]
  },
  {
   "cell_type": "code",
   "execution_count": null,
   "id": "8f7f6e14",
   "metadata": {},
   "outputs": [],
   "source": [
    "a**b # exponetial value"
   ]
  },
  {
   "cell_type": "code",
   "execution_count": null,
   "id": "d4bb7f78",
   "metadata": {},
   "outputs": [],
   "source": [
    "#logical operatior # comparision operator\n",
    "# return boolean value( True or false )\n",
    "a>b"
   ]
  },
  {
   "cell_type": "code",
   "execution_count": null,
   "id": "aa30d745",
   "metadata": {},
   "outputs": [],
   "source": [
    "a<b"
   ]
  },
  {
   "cell_type": "code",
   "execution_count": null,
   "id": "5c2cb59d",
   "metadata": {},
   "outputs": [],
   "source": [
    "a>=b# first checks the condition for > and then check conditon for ="
   ]
  },
  {
   "cell_type": "code",
   "execution_count": null,
   "id": "81e90886",
   "metadata": {},
   "outputs": [],
   "source": [
    "a<=b# first checks the condition for < and then check conditon for ="
   ]
  },
  {
   "cell_type": "code",
   "execution_count": null,
   "id": "c47c79d3",
   "metadata": {},
   "outputs": [],
   "source": [
    "a==b"
   ]
  },
  {
   "cell_type": "code",
   "execution_count": null,
   "id": "b5e38157",
   "metadata": {},
   "outputs": [],
   "source": [
    "a!=b"
   ]
  },
  {
   "cell_type": "raw",
   "id": "4d578791",
   "metadata": {},
   "source": [
    "# logical operator\n",
    "a\t\tb\t\ta and b\t\ta or b\tnot a\n",
    "TRUE\tTRUE\tTRUE\t\tTRUE\tFALSE\n",
    "TRUE\tFALSE\tFALSE\t\tTRUE\t\n",
    "FALSE\tFALSE\tTRUE\t\tTRUE\tTRUE\n",
    "FALSE\tFALSE\tFALSE\t\tFALSE\t\n"
   ]
  },
  {
   "cell_type": "code",
   "execution_count": null,
   "id": "7a302787",
   "metadata": {},
   "outputs": [],
   "source": [
    "a= True\n",
    "b= False"
   ]
  },
  {
   "cell_type": "code",
   "execution_count": null,
   "id": "56b2ee25",
   "metadata": {},
   "outputs": [],
   "source": [
    "a and b"
   ]
  },
  {
   "cell_type": "code",
   "execution_count": null,
   "id": "9dde91de",
   "metadata": {},
   "outputs": [],
   "source": [
    "a or b"
   ]
  },
  {
   "cell_type": "code",
   "execution_count": null,
   "id": "d15fdd66",
   "metadata": {},
   "outputs": [],
   "source": [
    "not a"
   ]
  },
  {
   "cell_type": "code",
   "execution_count": null,
   "id": "1813d4b3",
   "metadata": {},
   "outputs": [],
   "source": [
    "not b"
   ]
  },
  {
   "cell_type": "markdown",
   "id": "96999c4e",
   "metadata": {},
   "source": [
    "# Day2"
   ]
  },
  {
   "cell_type": "raw",
   "id": "1113c7b2",
   "metadata": {},
   "source": [
    "concatenation operator +"
   ]
  },
  {
   "cell_type": "code",
   "execution_count": null,
   "id": "7aeafdfc",
   "metadata": {},
   "outputs": [],
   "source": [
    "10+10 # addition"
   ]
  },
  {
   "cell_type": "code",
   "execution_count": null,
   "id": "9731d155",
   "metadata": {},
   "outputs": [],
   "source": [
    "12.25 + 50.75 # addition"
   ]
  },
  {
   "cell_type": "code",
   "execution_count": null,
   "id": "b7488e79",
   "metadata": {},
   "outputs": [],
   "source": [
    "10+12.25 # addition"
   ]
  },
  {
   "cell_type": "code",
   "execution_count": null,
   "id": "31e13329",
   "metadata": {},
   "outputs": [],
   "source": [
    "\"python \" + \"session\" #concatenation"
   ]
  },
  {
   "cell_type": "code",
   "execution_count": null,
   "id": "5738b253",
   "metadata": {},
   "outputs": [],
   "source": [
    "True + 1 # True = 1"
   ]
  },
  {
   "cell_type": "code",
   "execution_count": null,
   "id": "752a505b",
   "metadata": {},
   "outputs": [],
   "source": [
    "False +1 # False = 1"
   ]
  },
  {
   "cell_type": "code",
   "execution_count": null,
   "id": "dfc316af",
   "metadata": {},
   "outputs": [],
   "source": [
    "True + True"
   ]
  },
  {
   "cell_type": "code",
   "execution_count": null,
   "id": "14067470",
   "metadata": {},
   "outputs": [],
   "source": [
    "False + False"
   ]
  },
  {
   "cell_type": "code",
   "execution_count": null,
   "id": "f878d622",
   "metadata": {},
   "outputs": [],
   "source": [
    "10 + \"python\""
   ]
  },
  {
   "cell_type": "code",
   "execution_count": null,
   "id": "4e3eb100",
   "metadata": {},
   "outputs": [],
   "source": [
    "10 + \"10\""
   ]
  },
  {
   "cell_type": "code",
   "execution_count": null,
   "id": "8488df52",
   "metadata": {},
   "outputs": [],
   "source": [
    "10.5 + \"python\""
   ]
  },
  {
   "cell_type": "code",
   "execution_count": null,
   "id": "63f612b4",
   "metadata": {},
   "outputs": [],
   "source": [
    "True + \"python\""
   ]
  },
  {
   "cell_type": "markdown",
   "id": "390e049b",
   "metadata": {},
   "source": [
    "# Formatting the output"
   ]
  },
  {
   "cell_type": "code",
   "execution_count": null,
   "id": "42024de6",
   "metadata": {},
   "outputs": [],
   "source": [
    "name = \"shirly\"\n",
    "company = \"TCS\"\n",
    "emp_id = \"123456\""
   ]
  },
  {
   "cell_type": "code",
   "execution_count": null,
   "id": "de8358b3",
   "metadata": {},
   "outputs": [],
   "source": [
    "print(name, company, emp_id)"
   ]
  },
  {
   "cell_type": "code",
   "execution_count": null,
   "id": "3c366fb7",
   "metadata": {},
   "outputs": [],
   "source": [
    "print(f\"Name : {name}\\nCompany: {company}\\nEmp_id: {emp_id}\")"
   ]
  },
  {
   "cell_type": "code",
   "execution_count": null,
   "id": "960c7b2a",
   "metadata": {},
   "outputs": [],
   "source": [
    "print(\"Name : %s\\nCompany: %s\\nEmp_id: %s\" %(name, company, emp_id)) # %d number %s string"
   ]
  },
  {
   "cell_type": "code",
   "execution_count": null,
   "id": "4f289896",
   "metadata": {},
   "outputs": [],
   "source": [
    "print(\"Name : {}\\nCompany: {}\\nEmp_id: {}\".format(name, company, emp_id))"
   ]
  },
  {
   "cell_type": "code",
   "execution_count": null,
   "id": "a5456eb1",
   "metadata": {},
   "outputs": [],
   "source": [
    "print(\"Name : {}\\nCompany: {}\\nEmp_id: {}\".format(company, name, emp_id))"
   ]
  },
  {
   "cell_type": "markdown",
   "id": "729b9335",
   "metadata": {},
   "source": [
    "Options in print statement\n",
    "print(\"hello python\", sep=\"\", end=\"\") # function\n",
    "default value of end is \\n"
   ]
  },
  {
   "cell_type": "code",
   "execution_count": null,
   "id": "e7eded16",
   "metadata": {},
   "outputs": [],
   "source": [
    "a=\"welcome\"\n",
    "b=\"python!!\""
   ]
  },
  {
   "cell_type": "code",
   "execution_count": null,
   "id": "7ac73f10",
   "metadata": {},
   "outputs": [],
   "source": [
    "print(a, b)"
   ]
  },
  {
   "cell_type": "code",
   "execution_count": null,
   "id": "fc08531a",
   "metadata": {},
   "outputs": [],
   "source": [
    "print(a, b, sep=\"@\")"
   ]
  },
  {
   "cell_type": "code",
   "execution_count": null,
   "id": "95c9dd0f",
   "metadata": {},
   "outputs": [],
   "source": [
    "print(a, b, sep=\" to \") # sep=delimiter"
   ]
  },
  {
   "cell_type": "code",
   "execution_count": null,
   "id": "faa8a32e",
   "metadata": {},
   "outputs": [],
   "source": [
    "c = \"Hello\""
   ]
  },
  {
   "cell_type": "code",
   "execution_count": null,
   "id": "39c4e6d3",
   "metadata": {},
   "outputs": [],
   "source": [
    "print(a, b, c, sep=\" ** \")"
   ]
  },
  {
   "cell_type": "code",
   "execution_count": null,
   "id": "8b4d8f0c",
   "metadata": {},
   "outputs": [],
   "source": [
    "print(a)\n",
    "print(b)\n",
    "print(c)"
   ]
  },
  {
   "cell_type": "code",
   "execution_count": null,
   "id": "52f56582",
   "metadata": {},
   "outputs": [],
   "source": [
    "print(a, end=\" ** \")\n",
    "print(b, end=\" ** \")\n",
    "print(c, end=\" ** \")"
   ]
  },
  {
   "cell_type": "raw",
   "id": "7da28a6c",
   "metadata": {},
   "source": [
    "# print with end option in for loop "
   ]
  },
  {
   "cell_type": "markdown",
   "id": "fa1a928c",
   "metadata": {},
   "source": [
    "# User Input"
   ]
  },
  {
   "cell_type": "code",
   "execution_count": null,
   "id": "460017a6",
   "metadata": {},
   "outputs": [],
   "source": [
    "a = input()"
   ]
  },
  {
   "cell_type": "code",
   "execution_count": null,
   "id": "98cc3fb9",
   "metadata": {},
   "outputs": [],
   "source": [
    "print(a)"
   ]
  },
  {
   "cell_type": "code",
   "execution_count": null,
   "id": "8ee31427",
   "metadata": {},
   "outputs": [],
   "source": [
    "type(a)"
   ]
  },
  {
   "cell_type": "code",
   "execution_count": null,
   "id": "7788f61f",
   "metadata": {},
   "outputs": [],
   "source": [
    "b = input()"
   ]
  },
  {
   "cell_type": "code",
   "execution_count": null,
   "id": "9c415691",
   "metadata": {},
   "outputs": [],
   "source": [
    "b"
   ]
  },
  {
   "cell_type": "code",
   "execution_count": null,
   "id": "45c13c51",
   "metadata": {},
   "outputs": [],
   "source": [
    "type(b)"
   ]
  },
  {
   "cell_type": "code",
   "execution_count": null,
   "id": "05621922",
   "metadata": {},
   "outputs": [],
   "source": [
    "c = input()"
   ]
  },
  {
   "cell_type": "code",
   "execution_count": null,
   "id": "3f057a85",
   "metadata": {},
   "outputs": [],
   "source": [
    "c = input(\"Enter a number\")"
   ]
  },
  {
   "cell_type": "markdown",
   "id": "5b4aa6bb",
   "metadata": {},
   "source": [
    "# Type Casting"
   ]
  },
  {
   "cell_type": "code",
   "execution_count": null,
   "id": "467116e3",
   "metadata": {},
   "outputs": [],
   "source": [
    "c = input() # input type default ype is str"
   ]
  },
  {
   "cell_type": "code",
   "execution_count": null,
   "id": "0cd3d382",
   "metadata": {},
   "outputs": [],
   "source": [
    "c"
   ]
  },
  {
   "cell_type": "code",
   "execution_count": null,
   "id": "8f036b66",
   "metadata": {},
   "outputs": [],
   "source": [
    "type(c)"
   ]
  },
  {
   "cell_type": "code",
   "execution_count": null,
   "id": "c0d884d1",
   "metadata": {},
   "outputs": [],
   "source": [
    "n1=input()\n",
    "n2=input()"
   ]
  },
  {
   "cell_type": "code",
   "execution_count": null,
   "id": "0aa6fa7a",
   "metadata": {},
   "outputs": [],
   "source": [
    "type(n1)"
   ]
  },
  {
   "cell_type": "code",
   "execution_count": null,
   "id": "089cef90",
   "metadata": {},
   "outputs": [],
   "source": [
    "type(n2)"
   ]
  },
  {
   "cell_type": "code",
   "execution_count": null,
   "id": "bc8cf9ef",
   "metadata": {},
   "outputs": [],
   "source": [
    "n1+n2 # concat"
   ]
  },
  {
   "cell_type": "code",
   "execution_count": null,
   "id": "33391610",
   "metadata": {},
   "outputs": [],
   "source": [
    "int(n1)+int(n2) # string to int"
   ]
  },
  {
   "cell_type": "code",
   "execution_count": null,
   "id": "c455af5d",
   "metadata": {},
   "outputs": [],
   "source": [
    "float(n1)+float(n2) #str to float"
   ]
  },
  {
   "cell_type": "code",
   "execution_count": null,
   "id": "0967720b",
   "metadata": {},
   "outputs": [],
   "source": [
    "n1=int(input()) #\n",
    "n2=int(input())\n",
    "n1+n2"
   ]
  },
  {
   "cell_type": "code",
   "execution_count": null,
   "id": "2c1b3fcb",
   "metadata": {},
   "outputs": [],
   "source": [
    "n1=float(input()) #\n",
    "n2=float(input())\n",
    "n1+n2"
   ]
  },
  {
   "cell_type": "code",
   "execution_count": null,
   "id": "b79ab8ca",
   "metadata": {},
   "outputs": [],
   "source": [
    "a=100\n",
    "b= \"rupees\"\n",
    "a+b"
   ]
  },
  {
   "cell_type": "code",
   "execution_count": null,
   "id": "1a425097",
   "metadata": {},
   "outputs": [],
   "source": [
    "str(a)+b # int to string"
   ]
  },
  {
   "cell_type": "code",
   "execution_count": null,
   "id": "957a7c54",
   "metadata": {},
   "outputs": [],
   "source": [
    "int('10') # string number to number"
   ]
  },
  {
   "cell_type": "code",
   "execution_count": null,
   "id": "51be810d",
   "metadata": {},
   "outputs": [],
   "source": [
    "int(\"shirly\")"
   ]
  },
  {
   "cell_type": "code",
   "execution_count": null,
   "id": "248c6076",
   "metadata": {},
   "outputs": [],
   "source": [
    "bool(\"True\")"
   ]
  },
  {
   "cell_type": "code",
   "execution_count": null,
   "id": "c9174611",
   "metadata": {},
   "outputs": [],
   "source": [
    "bool(1)"
   ]
  },
  {
   "cell_type": "code",
   "execution_count": null,
   "id": "2236313a",
   "metadata": {},
   "outputs": [],
   "source": [
    "bool(45)"
   ]
  },
  {
   "cell_type": "code",
   "execution_count": null,
   "id": "d8a91dd3",
   "metadata": {},
   "outputs": [],
   "source": [
    "bool(-45)"
   ]
  },
  {
   "cell_type": "code",
   "execution_count": null,
   "id": "82cca773",
   "metadata": {},
   "outputs": [],
   "source": [
    "bool(0)"
   ]
  },
  {
   "cell_type": "code",
   "execution_count": null,
   "id": "0b3463e7",
   "metadata": {},
   "outputs": [],
   "source": [
    "bool(\"string\")"
   ]
  },
  {
   "cell_type": "code",
   "execution_count": null,
   "id": "dea36e70",
   "metadata": {},
   "outputs": [],
   "source": [
    "bool()"
   ]
  },
  {
   "cell_type": "markdown",
   "id": "4af7524c",
   "metadata": {},
   "source": [
    "# Control statement - ctrl the flow of the program\n",
    "    1. reusage of block\n",
    "    2. skip block\n",
    "    3. repeat based on condition\n",
    "\n",
    "types:\n",
    "\n",
    "    1. Conditional statement\n",
    "        1. if\n",
    "        2. if..else\n",
    "        3. if..elif..else\n",
    "        \n",
    "    2. looping statement\n",
    "        1. while\n",
    "        2. for\n",
    "        \n",
    "    3. jumping statement\n",
    "        1. break\n",
    "        2. continue"
   ]
  },
  {
   "cell_type": "markdown",
   "id": "ac95aa1d",
   "metadata": {},
   "source": [
    "# Conditional statement "
   ]
  },
  {
   "cell_type": "code",
   "execution_count": null,
   "id": "d6bb0c3b",
   "metadata": {},
   "outputs": [],
   "source": [
    "# odd or even\n",
    "a=int(input())\n",
    "\n",
    "if a%2==1:\n",
    "    print(f\"{a} is odd number\")\n",
    "else:\n",
    "    print(f\"{a} is even number\")"
   ]
  },
  {
   "cell_type": "code",
   "execution_count": null,
   "id": "09034981",
   "metadata": {},
   "outputs": [],
   "source": [
    "a=True\n",
    "# True==1\n",
    "# False==0\n",
    "if a:\n",
    "    print(\"True Block\")\n",
    "    print(\"True Block\")\n",
    "    print(\"True Block\")\n",
    "else:\n",
    "    print(\"Flase Block\")\n",
    "    print(\"Flase Block\")\n",
    "    \n",
    "print(\"OUTSIDE IF CONDITION\")"
   ]
  },
  {
   "cell_type": "markdown",
   "id": "104e2c8c",
   "metadata": {},
   "source": [
    "# Day3"
   ]
  },
  {
   "cell_type": "code",
   "execution_count": null,
   "id": "528346be",
   "metadata": {},
   "outputs": [],
   "source": [
    "# ternary operator\n",
    "a=int(input())\n",
    "# if a%2==1:\n",
    "#     print(f\"{a} is odd number\")\n",
    "# else:\n",
    "#     print(f\"{a} is even number\")\n",
    "\n",
    "\n",
    "print(f\"{a} is odd number\") if a%2==1 else print(f\"{a} is even number\")"
   ]
  },
  {
   "cell_type": "code",
   "execution_count": null,
   "id": "c996c623",
   "metadata": {},
   "outputs": [],
   "source": [
    "a=int(input())\n",
    "# if a%2==1:\n",
    "#     print(\"Hello python\")\n",
    "#     print(f\"{a} is odd number\")\n",
    "# else:\n",
    "#     print(\"Hello python\")\n",
    "#     print(f\"{a} is even number\")\n",
    "\n",
    "\n",
    "{print(\"Hello python\"),print(f\"{a} is odd number\")} if a%2==1 else {print(\"Hello python\"),print(f\"{a} is even number\")}"
   ]
  },
  {
   "cell_type": "code",
   "execution_count": null,
   "id": "97e8c97e",
   "metadata": {},
   "outputs": [],
   "source": [
    "# if.. elif..else\n",
    "# for given week number print week\n",
    "# 1=sunday\n",
    "# 2 = monday..\n",
    "week_no=int(input())\n",
    "if week_no==1:\n",
    "    print(\"sunday\")\n",
    "elif week_no==2:\n",
    "    print(\"monday\")\n",
    "elif week_no==3:\n",
    "    print(\"tuesday\")\n",
    "elif week_no==4:\n",
    "    print(\"wednesday\")\n",
    "elif week_no==5:\n",
    "    print(\"thusday\")\n",
    "elif week_no==6:\n",
    "    print(\"friday\")\n",
    "elif week_no==7:\n",
    "    print(\"saturday\")\n",
    "else:\n",
    "    print(\"invalid input\")"
   ]
  },
  {
   "cell_type": "markdown",
   "id": "a802bf36",
   "metadata": {},
   "source": [
    "# Assignments\n",
    "https://pynative.com/python-exercises-with-solutions/"
   ]
  },
  {
   "cell_type": "markdown",
   "id": "156f45f0",
   "metadata": {},
   "source": [
    "# 2. looping statement\n",
    "    1. while\n",
    "    2. for"
   ]
  },
  {
   "cell_type": "code",
   "execution_count": null,
   "id": "e46d068c",
   "metadata": {},
   "outputs": [],
   "source": [
    "# range func\n",
    "# range(start=0, end=n-1 , step=1)\n",
    "range(10) #0 to 10"
   ]
  },
  {
   "cell_type": "code",
   "execution_count": null,
   "id": "54d1563e",
   "metadata": {},
   "outputs": [],
   "source": [
    "list(range(0, 10))"
   ]
  },
  {
   "cell_type": "code",
   "execution_count": null,
   "id": "00ba3817",
   "metadata": {},
   "outputs": [],
   "source": [
    "list(range(10))"
   ]
  },
  {
   "cell_type": "code",
   "execution_count": null,
   "id": "ead0920e",
   "metadata": {},
   "outputs": [],
   "source": [
    "list(range(3,10))"
   ]
  },
  {
   "cell_type": "code",
   "execution_count": null,
   "id": "f30f7d79",
   "metadata": {},
   "outputs": [],
   "source": [
    "list(range(3,10,3))"
   ]
  },
  {
   "cell_type": "code",
   "execution_count": null,
   "id": "7acb06db",
   "metadata": {},
   "outputs": [],
   "source": [
    "# negative listing\n",
    "# descending order\n",
    "list(range(10,0,-1))"
   ]
  },
  {
   "cell_type": "code",
   "execution_count": null,
   "id": "76c3e46d",
   "metadata": {},
   "outputs": [],
   "source": [
    "list(range(10,0,-2))"
   ]
  },
  {
   "cell_type": "code",
   "execution_count": null,
   "id": "b14cf603",
   "metadata": {},
   "outputs": [],
   "source": [
    "list(range(10,5,-2))"
   ]
  },
  {
   "cell_type": "markdown",
   "id": "43f9e4fb",
   "metadata": {},
   "source": [
    "# While\n",
    "    1. initiazile\n",
    "    2. condition\n",
    "    3. increment/decrement"
   ]
  },
  {
   "cell_type": "code",
   "execution_count": null,
   "id": "96d861a4",
   "metadata": {},
   "outputs": [],
   "source": [
    "# print 1--10 \n",
    "# initiazile\n",
    "a=1\n",
    "while a<=10: # condition\n",
    "    print(a, end=\" \")\n",
    "    # increment\n",
    "    #a=a+1 or \n",
    "    a+=1"
   ]
  },
  {
   "cell_type": "code",
   "execution_count": null,
   "id": "4db7552a",
   "metadata": {},
   "outputs": [],
   "source": [
    "# print 10--1(desending) (reverse)\n",
    "# initiazile\n",
    "a=10\n",
    "while a>=1: # condition\n",
    "    print(a, end=\" \")\n",
    "    # decrement\n",
    "    #a=a-1 or \n",
    "    a-=1"
   ]
  },
  {
   "cell_type": "markdown",
   "id": "b0da3ceb",
   "metadata": {},
   "source": [
    "# For loop\n",
    "# range function always comes with for loop"
   ]
  },
  {
   "cell_type": "code",
   "execution_count": null,
   "id": "794f3c87",
   "metadata": {},
   "outputs": [],
   "source": [
    "# print 1--10 \n",
    "for i in range(1, 11):\n",
    "    print(i)"
   ]
  },
  {
   "cell_type": "code",
   "execution_count": null,
   "id": "20cfad21",
   "metadata": {},
   "outputs": [],
   "source": [
    "# print 10--1 \n",
    "# number line\n",
    "#-4 -3 -2 -1 0 1 2 3 4 5 6 \n",
    "for i in range(10, 0, -1):\n",
    "    print(i)"
   ]
  },
  {
   "cell_type": "markdown",
   "id": "1bec4662",
   "metadata": {},
   "source": [
    "# 3. jumping statement\n",
    "    1. break\n",
    "    2. continue"
   ]
  },
  {
   "cell_type": "code",
   "execution_count": null,
   "id": "7cc33a12",
   "metadata": {},
   "outputs": [],
   "source": [
    "# break - break the loop based on cond(if cond)\n",
    "for i in range(1, 11):\n",
    "    if i==8:\n",
    "        break\n",
    "    print(i)"
   ]
  },
  {
   "cell_type": "code",
   "execution_count": null,
   "id": "498d2443",
   "metadata": {},
   "outputs": [],
   "source": [
    "# continue - skip the loop based on cond(if cond)\n",
    "for i in range(1, 11):\n",
    "    if i==3:\n",
    "        continue\n",
    "    print(i)"
   ]
  },
  {
   "cell_type": "code",
   "execution_count": null,
   "id": "9d10f7d0",
   "metadata": {},
   "outputs": [],
   "source": [
    "for i in range(1, 11):\n",
    "    if i%3==0:\n",
    "        continue\n",
    "    print(i)"
   ]
  },
  {
   "cell_type": "markdown",
   "id": "a86d9e6a",
   "metadata": {},
   "source": [
    "text type: str\n",
    "number type : int, float, complex (1+2j)(optional)\n",
    "boolean type:bool\n",
    "scalar = variable will get assigned with single data\n",
    "    \n",
    "sequence type : list, tuple\n",
    "mapping type: dict\n",
    "set type: set\n",
    "array/hash = variable will get assigned with mutiple data"
   ]
  },
  {
   "cell_type": "code",
   "execution_count": null,
   "id": "6256b11d",
   "metadata": {},
   "outputs": [],
   "source": [
    "#number type\n",
    "# 10,20,22,5,4,3,19\n",
    "max(10,20,22.4,5,4.9,3,19)"
   ]
  },
  {
   "cell_type": "code",
   "execution_count": null,
   "id": "f1c9833d",
   "metadata": {},
   "outputs": [],
   "source": [
    "min(10,20,22.4,5,4.9,3,19)"
   ]
  },
  {
   "cell_type": "code",
   "execution_count": null,
   "id": "5642adeb",
   "metadata": {},
   "outputs": [],
   "source": [
    "# string type\n",
    "# empty string\n",
    "s=\"\"# or '' or str() # null"
   ]
  },
  {
   "cell_type": "code",
   "execution_count": null,
   "id": "811ca46b",
   "metadata": {},
   "outputs": [],
   "source": [
    "# is strings are mutable? No immutable\n",
    "# mutable- can change\n",
    "# immutable - cannot change"
   ]
  },
  {
   "cell_type": "code",
   "execution_count": null,
   "id": "f4c6de39",
   "metadata": {},
   "outputs": [],
   "source": [
    "s=\"welcome\" # string an array of bytes\n",
    "s1=\"a\"\n",
    "print(s[1])"
   ]
  },
  {
   "cell_type": "code",
   "execution_count": null,
   "id": "3e1516f7",
   "metadata": {},
   "outputs": [],
   "source": [
    "str1=\"string\"\n",
    "str1[3]=\"o\"\n",
    "print(str1)"
   ]
  },
  {
   "cell_type": "code",
   "execution_count": null,
   "id": "c4249cf3",
   "metadata": {},
   "outputs": [],
   "source": [
    "# slicing in string\n",
    "str2=\"welcome to python\"\n"
   ]
  },
  {
   "cell_type": "code",
   "execution_count": null,
   "id": "54d0a67a",
   "metadata": {},
   "outputs": [],
   "source": [
    "str2[0:7]"
   ]
  },
  {
   "cell_type": "code",
   "execution_count": null,
   "id": "f5d628c6",
   "metadata": {},
   "outputs": [],
   "source": [
    "str2[6:8]"
   ]
  },
  {
   "cell_type": "code",
   "execution_count": null,
   "id": "60fb3618",
   "metadata": {},
   "outputs": [],
   "source": [
    "str2[0:8:3]"
   ]
  },
  {
   "cell_type": "code",
   "execution_count": null,
   "id": "eb2b954d",
   "metadata": {},
   "outputs": [],
   "source": [
    "str2[7:0:-1]"
   ]
  },
  {
   "cell_type": "code",
   "execution_count": null,
   "id": "8b5793c9",
   "metadata": {},
   "outputs": [],
   "source": [
    "str2[::-1]# interview"
   ]
  },
  {
   "cell_type": "code",
   "execution_count": null,
   "id": "d9103eea",
   "metadata": {},
   "outputs": [],
   "source": [
    "for i in str2:\n",
    "    print(i, end='')"
   ]
  },
  {
   "cell_type": "code",
   "execution_count": null,
   "id": "f6174b61",
   "metadata": {},
   "outputs": [],
   "source": [
    "rev_string= \"\"\n",
    "for i in str2: # w # e # l #\n",
    "   rev_string=i+rev_string # w #2 ew # 3  l+ew lew\n",
    "print(rev_string)"
   ]
  },
  {
   "cell_type": "code",
   "execution_count": null,
   "id": "991c1d7d",
   "metadata": {},
   "outputs": [],
   "source": [
    "len(str2) # count of char in array"
   ]
  },
  {
   "cell_type": "code",
   "execution_count": null,
   "id": "bc3377fc",
   "metadata": {},
   "outputs": [],
   "source": [
    "#in/not in operator\n",
    "str2=\"welcome to python\"\n",
    "\"python\" in str2"
   ]
  },
  {
   "cell_type": "code",
   "execution_count": null,
   "id": "c1595716",
   "metadata": {},
   "outputs": [],
   "source": [
    "\"python\" not in str2"
   ]
  },
  {
   "cell_type": "code",
   "execution_count": null,
   "id": "f007124a",
   "metadata": {},
   "outputs": [],
   "source": [
    "# str compare\n",
    "str1=\"python\"\n",
    "str2=\"python\"\n",
    "str1==str2()"
   ]
  },
  {
   "cell_type": "code",
   "execution_count": null,
   "id": "c6284b24",
   "metadata": {},
   "outputs": [],
   "source": [
    "str1!=str2"
   ]
  },
  {
   "cell_type": "code",
   "execution_count": null,
   "id": "dbb060b4",
   "metadata": {},
   "outputs": [],
   "source": [
    "# testing the string\n",
    "s= \"123\"\n",
    "s.isalnum()"
   ]
  },
  {
   "cell_type": "code",
   "execution_count": null,
   "id": "92fe5906",
   "metadata": {},
   "outputs": [],
   "source": [
    "s= \"hello python\"\n",
    "s.isalnum()"
   ]
  },
  {
   "cell_type": "code",
   "execution_count": null,
   "id": "ffb21d6e",
   "metadata": {},
   "outputs": [],
   "source": [
    "\"string\".isalpha()"
   ]
  },
  {
   "cell_type": "code",
   "execution_count": null,
   "id": "d7c067e5",
   "metadata": {},
   "outputs": [],
   "source": [
    "\"123\".isdigit()"
   ]
  },
  {
   "cell_type": "code",
   "execution_count": null,
   "id": "82bc407a",
   "metadata": {},
   "outputs": [],
   "source": [
    "\"12sdcdfv3\".isdigit()"
   ]
  },
  {
   "cell_type": "code",
   "execution_count": null,
   "id": "24367dcb",
   "metadata": {},
   "outputs": [],
   "source": [
    "\"try\".isidentifier() # python keyword"
   ]
  },
  {
   "cell_type": "code",
   "execution_count": null,
   "id": "c1f2dd31",
   "metadata": {},
   "outputs": [],
   "source": [
    "\"sWERdhirluok\".islower()"
   ]
  },
  {
   "cell_type": "code",
   "execution_count": null,
   "id": "e884dacb",
   "metadata": {},
   "outputs": [],
   "source": [
    "\"sWERdhirluok\".isupper()"
   ]
  },
  {
   "cell_type": "code",
   "execution_count": null,
   "id": "04c70ff6",
   "metadata": {},
   "outputs": [],
   "source": [
    "\" \".isspace()"
   ]
  },
  {
   "cell_type": "code",
   "execution_count": null,
   "id": "977348fc",
   "metadata": {},
   "outputs": [],
   "source": [
    "# searching for substring\n",
    "s= \"hello python\"\n",
    "s.find(\"python2123\")# starting index of string\n",
    "# -1 not found"
   ]
  },
  {
   "cell_type": "code",
   "execution_count": null,
   "id": "98b49fc5",
   "metadata": {},
   "outputs": [],
   "source": [
    "s.count(\"l\") # frequency of the char"
   ]
  },
  {
   "cell_type": "code",
   "execution_count": null,
   "id": "a5acd173",
   "metadata": {},
   "outputs": [],
   "source": [
    "# coverting a string\n",
    "s=\"hello python\"\n",
    "s1=s.upper()\n",
    "print(s)\n",
    "print(s1)"
   ]
  },
  {
   "cell_type": "code",
   "execution_count": null,
   "id": "1c4c9fa9",
   "metadata": {},
   "outputs": [],
   "source": [
    "s=\"Hello Python\"\n",
    "s.lower()"
   ]
  },
  {
   "cell_type": "code",
   "execution_count": null,
   "id": "442a66f7",
   "metadata": {},
   "outputs": [],
   "source": [
    "s=\"Hello Python\"\n",
    "s.swapcase()"
   ]
  },
  {
   "cell_type": "code",
   "execution_count": null,
   "id": "beae8890",
   "metadata": {},
   "outputs": [],
   "source": [
    "s=\"Hello Python\"\n",
    "s.capitalize()\n",
    "print(s)"
   ]
  },
  {
   "cell_type": "code",
   "execution_count": null,
   "id": "cd162ae6",
   "metadata": {},
   "outputs": [],
   "source": [
    "s=\"Hello Python\"\n",
    "s.title()"
   ]
  },
  {
   "cell_type": "code",
   "execution_count": null,
   "id": "065a868a",
   "metadata": {},
   "outputs": [],
   "source": [
    "s=\"Hello Python\"\n",
    "s.replace(\"Python\", \"Java\")\n",
    "s=\"Hello Python\"\n",
    "s.replace(\"on\", \"in\")"
   ]
  },
  {
   "cell_type": "code",
   "execution_count": null,
   "id": "8734c937",
   "metadata": {},
   "outputs": [],
   "source": [
    "str1=\"string\"\n",
    "str1[3]=\"o\"\n",
    "print(str1)"
   ]
  },
  {
   "cell_type": "code",
   "execution_count": null,
   "id": "49883ef8",
   "metadata": {},
   "outputs": [],
   "source": [
    "str1.split(\"\")"
   ]
  },
  {
   "cell_type": "code",
   "execution_count": null,
   "id": "5cab4171",
   "metadata": {},
   "outputs": [],
   "source": [
    "# immutable\n",
    "str1=\"welcome\"# mem allocation\n",
    "print(id(str1)) # value of the mem loc\n",
    "str1=str1+\" to python\" # mem different mem locator\n",
    "print(id(str1))\n",
    "\n",
    "# if the id of the variable is getting changed then that datatype is immutable."
   ]
  },
  {
   "cell_type": "raw",
   "id": "0706202c",
   "metadata": {},
   "source": [
    "# Collections\t\n",
    "\n",
    "List\t|\tTuple\t\t|\tSet\t\t\t|\tDict\n",
    "Mutable\t|\tImmutable\t|\tMutable\t\t|\tMutable\n",
    "Ordered\t|\tOrdered\t\t|\tUnordered\t|\tUnordered\n",
    "Indexed\t|\tIndexed\t\t|\tUnindexed\t|\tUnindexed\n",
    "[]\t\t|\t()\t\t\t|\t{}\t\t\t|\t{key:value}"
   ]
  },
  {
   "cell_type": "markdown",
   "id": "b357b398",
   "metadata": {},
   "source": [
    "# Day4"
   ]
  },
  {
   "cell_type": "markdown",
   "id": "21ce7ca7",
   "metadata": {},
   "source": [
    "# Collections"
   ]
  },
  {
   "cell_type": "markdown",
   "id": "b73c2205",
   "metadata": {},
   "source": [
    "# List"
   ]
  },
  {
   "cell_type": "raw",
   "id": "fa1f4e07",
   "metadata": {},
   "source": [
    "array VS list\n",
    "array is collection of homogenous element\n",
    "list is a collection of homogenous/heterogenous element\n",
    "\n",
    "list can be an array but array cannot be a list"
   ]
  },
  {
   "cell_type": "code",
   "execution_count": null,
   "id": "c6efcc4b",
   "metadata": {},
   "outputs": [],
   "source": [
    "# create list\n",
    "mylist=[10, 20, 30, 40, \"apple\", \"banana\", \"cherry\"]\n",
    "mylist"
   ]
  },
  {
   "cell_type": "code",
   "execution_count": null,
   "id": "e83c9557",
   "metadata": {},
   "outputs": [],
   "source": [
    "# empy list\n",
    "mylist1=list() #or []\n",
    "mylist1"
   ]
  },
  {
   "cell_type": "code",
   "execution_count": null,
   "id": "6789f19a",
   "metadata": {},
   "outputs": [],
   "source": [
    "mylist=[\"tomato\", \"onion\", \"spinach\", \"panneer\", \"tofu\", \"potato\", \"vannilla\"]\n",
    "mylist[0]"
   ]
  },
  {
   "cell_type": "code",
   "execution_count": null,
   "id": "1522e1db",
   "metadata": {},
   "outputs": [],
   "source": [
    "mylist[-1]"
   ]
  },
  {
   "cell_type": "code",
   "execution_count": null,
   "id": "53bbe449",
   "metadata": {},
   "outputs": [],
   "source": [
    "# range of index\n",
    "mylist[0:5]"
   ]
  },
  {
   "cell_type": "code",
   "execution_count": null,
   "id": "90a2045c",
   "metadata": {},
   "outputs": [],
   "source": [
    "mylist[::-1]"
   ]
  },
  {
   "cell_type": "code",
   "execution_count": null,
   "id": "4ba34193",
   "metadata": {},
   "outputs": [],
   "source": [
    "# changing item\n",
    "mylist[-1]=\"strawberry\"\n",
    "mylist"
   ]
  },
  {
   "cell_type": "code",
   "execution_count": null,
   "id": "988b526e",
   "metadata": {},
   "outputs": [],
   "source": [
    "# for loop\n",
    "mylist=[\"tomato\", \"onion\", \"spinach\", \"panneer\"]\n",
    "for i in mylist:\n",
    "    print(i)"
   ]
  },
  {
   "cell_type": "code",
   "execution_count": null,
   "id": "be1cf613",
   "metadata": {},
   "outputs": [],
   "source": [
    "# check exeistence of element\n",
    "\"tomato1kgjyg\" in mylist"
   ]
  },
  {
   "cell_type": "code",
   "execution_count": null,
   "id": "650af006",
   "metadata": {},
   "outputs": [],
   "source": [
    "len(mylist)"
   ]
  },
  {
   "cell_type": "code",
   "execution_count": null,
   "id": "79235b36",
   "metadata": {},
   "outputs": [],
   "source": [
    "# add new element in list\n",
    "mylist=[\"tomato\", \"onion\", \"spinach\", \"panneer\"]\n",
    "#1\n",
    "mylist.append(\"chilly\")\n",
    "mylist"
   ]
  },
  {
   "cell_type": "code",
   "execution_count": null,
   "id": "f4b15394",
   "metadata": {},
   "outputs": [],
   "source": [
    "# add new element in list\n",
    "mylist=[\"tomato\", \"onion\", \"spinach\", \"panneer\"]\n",
    "print(id(mylist))\n",
    "#2\n",
    "mylist.insert(2, \"chilly\")\n",
    "print(id(mylist))\n",
    "mylist"
   ]
  },
  {
   "cell_type": "code",
   "execution_count": null,
   "id": "84a444f4",
   "metadata": {},
   "outputs": [],
   "source": [
    "# remove item from list\n",
    "mylist=[\"tomato\", \"onion\", \"spinach\", \"panneer\"]\n",
    "#1\n",
    "mylist.pop()\n",
    "mylist"
   ]
  },
  {
   "cell_type": "code",
   "execution_count": null,
   "id": "5eb95614",
   "metadata": {},
   "outputs": [],
   "source": [
    "# remove item from list\n",
    "mylist=[\"tomato\", \"onion\", \"spinach\", \"panneer\"]\n",
    "#2\n",
    "mylist.pop(1)\n",
    "mylist"
   ]
  },
  {
   "cell_type": "code",
   "execution_count": null,
   "id": "75f4f19a",
   "metadata": {},
   "outputs": [],
   "source": [
    "# remove item from list\n",
    "mylist=[\"tomato\", \"onion\", \"spinach\", \"panneer\"]\n",
    "#3\n",
    "del mylist[0]\n",
    "mylist"
   ]
  },
  {
   "cell_type": "code",
   "execution_count": null,
   "id": "b1791c98",
   "metadata": {},
   "outputs": [],
   "source": [
    "# remove item from list\n",
    "mylist=[\"tomato\", \"onion\", \"spinach\", \"panneer\"]\n",
    "#4\n",
    "del mylist\n",
    "mylist"
   ]
  },
  {
   "cell_type": "code",
   "execution_count": null,
   "id": "d1586eeb",
   "metadata": {},
   "outputs": [],
   "source": [
    "# remove item from list\n",
    "mylist=[\"tomato\", \"onion\", \"spinach\", \"panneer\"]\n",
    "#5\n",
    "mylist.clear()\n",
    "mylist"
   ]
  },
  {
   "cell_type": "code",
   "execution_count": null,
   "id": "b6b5ae51",
   "metadata": {},
   "outputs": [],
   "source": [
    "# copy list\n",
    "mylist1=[\"tomato\", \"onion\", \"spinach\", \"panneer\"]\n",
    "mylist2=list(mylist1)\n",
    "print(mylist1, mylist2)"
   ]
  },
  {
   "cell_type": "code",
   "execution_count": null,
   "id": "03eca7e4",
   "metadata": {},
   "outputs": [],
   "source": [
    "# copy list\n",
    "mylist1=[\"tomato\", \"onion\", \"spinach\", \"panneer\"]\n",
    "mylist2=mylist1.copy()\n",
    "print(mylist1, mylist2)"
   ]
  },
  {
   "cell_type": "code",
   "execution_count": null,
   "id": "9286166d",
   "metadata": {},
   "outputs": [],
   "source": [
    "# combine list\n",
    "# 1\n",
    "mylist1=[\"tomato\", \"onion\", \"spinach\", \"panneer\"]\n",
    "mylist2=[1,2,3,4]\n",
    "mylist1+mylist2"
   ]
  },
  {
   "cell_type": "code",
   "execution_count": null,
   "id": "59b810ff",
   "metadata": {},
   "outputs": [],
   "source": [
    "#2\n",
    "mylist1=[\"tomato\", \"onion\", \"spinach\", \"panneer\"]\n",
    "mylist2=[1,2,3,4]\n",
    "for i in mylist2:\n",
    "    mylist1.append(i)\n",
    "mylist1"
   ]
  },
  {
   "cell_type": "code",
   "execution_count": null,
   "id": "4a89762e",
   "metadata": {},
   "outputs": [],
   "source": [
    "# extendting the list\n",
    "mylist1=[\"tomato\", \"onion\", \"spinach\", \"panneer\"]\n",
    "mylist2=[1,2,3,4]\n",
    "mylist1.extend(mylist2)\n",
    "mylist1"
   ]
  },
  {
   "cell_type": "markdown",
   "id": "89d71349",
   "metadata": {},
   "source": [
    "# Tuple"
   ]
  },
  {
   "cell_type": "code",
   "execution_count": null,
   "id": "03f3ca9e",
   "metadata": {},
   "outputs": [],
   "source": [
    "# create tuple\n",
    "mytuple=('tomato', 'onion', 'spinach', 'panneer')\n",
    "mytuple"
   ]
  },
  {
   "cell_type": "code",
   "execution_count": null,
   "id": "b14e03b6",
   "metadata": {},
   "outputs": [],
   "source": [
    "# empty tuple\n",
    "t1=tuple() #or ()\n",
    "t1"
   ]
  },
  {
   "cell_type": "code",
   "execution_count": null,
   "id": "bcf46c3c",
   "metadata": {},
   "outputs": [],
   "source": [
    "# access tuple item\n",
    "mytuple=('tomato', 'onion', 'spinach', 'panneer')\n",
    "mytuple[0]"
   ]
  },
  {
   "cell_type": "code",
   "execution_count": null,
   "id": "f501beaf",
   "metadata": {},
   "outputs": [],
   "source": [
    "# ranges of index\n",
    "mytuple[0:3]"
   ]
  },
  {
   "cell_type": "raw",
   "id": "c9d12cbe",
   "metadata": {},
   "source": [
    "# if it is immutable then following will not apply\n",
    "1 modify\n",
    "2 append\n",
    "3 insert\n",
    "4 remove\n",
    "5 copy"
   ]
  },
  {
   "cell_type": "code",
   "execution_count": null,
   "id": "03f36476",
   "metadata": {},
   "outputs": [],
   "source": [
    "# indirect approch to change tuple item\n",
    "t1=(1,2,3,4,5)\n",
    "print(id(t1))\n",
    "l1=list(t1)\n",
    "l1[2]=300\n",
    "print(\"list\",l1)\n",
    "t1=tuple(l1)\n",
    "print(id(t1))"
   ]
  },
  {
   "cell_type": "code",
   "execution_count": null,
   "id": "c8a151f1",
   "metadata": {},
   "outputs": [],
   "source": [
    "# for loop\n",
    "mytuple=('tomato', 'onion', 'spinach', 'panneer')\n",
    "for i in mytuple:\n",
    "    print(i)"
   ]
  },
  {
   "cell_type": "code",
   "execution_count": null,
   "id": "e6f777f0",
   "metadata": {},
   "outputs": [],
   "source": [
    "# check the exisitence\n",
    "\"onion\" in mytuple"
   ]
  },
  {
   "cell_type": "code",
   "execution_count": null,
   "id": "341ab79c",
   "metadata": {},
   "outputs": [],
   "source": [
    "\"onion\" not in mytuple"
   ]
  },
  {
   "cell_type": "code",
   "execution_count": null,
   "id": "e6bcec63",
   "metadata": {},
   "outputs": [],
   "source": [
    "# length\n",
    "len(mytuple)"
   ]
  },
  {
   "cell_type": "code",
   "execution_count": null,
   "id": "f7318670",
   "metadata": {},
   "outputs": [],
   "source": [
    "# copy\n",
    "mytuple1=('tomato', 'onion', 'spinach', 'panneer')\n",
    "mytuple2=tuple(mytuple1)\n",
    "mytuple2"
   ]
  },
  {
   "cell_type": "code",
   "execution_count": null,
   "id": "8dc5612e",
   "metadata": {},
   "outputs": [],
   "source": [
    "mytuple1=('tomato', 'onion', 'spinach', 'panneer')\n",
    "mytuple2=mytuple1.copy()\n",
    "mytuple2"
   ]
  },
  {
   "cell_type": "code",
   "execution_count": null,
   "id": "4fad2f70",
   "metadata": {},
   "outputs": [],
   "source": [
    "mytuple1=('tomato', 'onion', 'spinach', 'panneer')\n",
    "mytuple2=mytuple1\n",
    "mytuple2"
   ]
  },
  {
   "cell_type": "code",
   "execution_count": null,
   "id": "ba05291d",
   "metadata": {},
   "outputs": [],
   "source": [
    "# join or combine\n",
    "mytuple1=('tomato', 'onion', 'spinach', 'panneer')\n",
    "mytuple2 =(1,2,3,4)\n",
    "t1 = mytuple1+mytuple2\n",
    "t1"
   ]
  },
  {
   "cell_type": "code",
   "execution_count": null,
   "id": "ccf4b601",
   "metadata": {},
   "outputs": [],
   "source": [
    "mytuple1=('tomato', 'onion', 'spinach', 'panneer')\n",
    "mytuple2 =(1,2,3,4)\n",
    "mytuple1.extend(mytuple2)\n",
    "mytuple1"
   ]
  },
  {
   "cell_type": "markdown",
   "id": "fa0b72ee",
   "metadata": {},
   "source": [
    "# Set"
   ]
  },
  {
   "cell_type": "code",
   "execution_count": null,
   "id": "5d5675ac",
   "metadata": {},
   "outputs": [],
   "source": [
    "# create set\n",
    "myset1={'tomato', 'onion', 'spinach', 'panneer'}\n",
    "myset1"
   ]
  },
  {
   "cell_type": "code",
   "execution_count": null,
   "id": "cc7b3caf",
   "metadata": {},
   "outputs": [],
   "source": [
    "# empty set\n",
    "myset2=set()\n",
    "# myset2={}# dict\n",
    "myset2\n",
    "type(myset2)"
   ]
  },
  {
   "cell_type": "code",
   "execution_count": null,
   "id": "c31b9f48",
   "metadata": {},
   "outputs": [],
   "source": [
    " # unordered and unindexed\n",
    "# access the set\n",
    "myset1={'tomato', 'onion', 'spinach', 'panneer'}\n",
    "for i in myset1:\n",
    "    print(i)\n",
    "myset1[0]"
   ]
  },
  {
   "cell_type": "code",
   "execution_count": null,
   "id": "a21b3a83",
   "metadata": {},
   "outputs": [],
   "source": [
    "# access the set\n",
    "myset1={'tomato', 'onion', 'spinach', 'panneer'}\n",
    "for i in myset1:\n",
    "    if \"spinach\" == i:\n",
    "        break\n",
    "    print(i)"
   ]
  },
  {
   "cell_type": "code",
   "execution_count": null,
   "id": "07f0a562",
   "metadata": {},
   "outputs": [],
   "source": [
    "# duplicate\n",
    "myset1={'tomato', 'onion', 'spinach', 'panneer', 'tomato', 'onion', 'spinach'}\n",
    "myset1"
   ]
  },
  {
   "cell_type": "code",
   "execution_count": null,
   "id": "e18ee0b0",
   "metadata": {},
   "outputs": [],
   "source": [
    "list(myset1)"
   ]
  },
  {
   "cell_type": "code",
   "execution_count": null,
   "id": "8d41ec78",
   "metadata": {},
   "outputs": [],
   "source": [
    "# check exist\n",
    "\"tomato\" in myset1"
   ]
  },
  {
   "cell_type": "code",
   "execution_count": null,
   "id": "143a5fce",
   "metadata": {},
   "outputs": [],
   "source": [
    "# length\n",
    "len(myset1)"
   ]
  },
  {
   "cell_type": "code",
   "execution_count": null,
   "id": "8c59695f",
   "metadata": {},
   "outputs": [],
   "source": [
    "# adding the item in set\n",
    "myset1={'tomato', 'onion', 'spinach', 'panneer'}\n",
    "myset1.add(\"kiwi\")# adds single item\n",
    "myset1"
   ]
  },
  {
   "cell_type": "code",
   "execution_count": null,
   "id": "4ca53972",
   "metadata": {},
   "outputs": [],
   "source": [
    "# adding the item in set\n",
    "myset1={'tomato', 'onion', 'spinach', 'panneer'}\n",
    "myset1.update({\"kiwi\", \"orange\"})# adds multiple item\n",
    "myset1"
   ]
  },
  {
   "cell_type": "code",
   "execution_count": null,
   "id": "53587e49",
   "metadata": {},
   "outputs": [],
   "source": [
    "# remove item from set\n",
    "myset1={'tomato', 'onion', 'spinach', 'panneer'}\n",
    "myset1.remove(\"tomato\")\n",
    "#error with non exist elem\n",
    "myset1.remove(\"tto\")#KeyError\n",
    "\n",
    "myset1"
   ]
  },
  {
   "cell_type": "code",
   "execution_count": null,
   "id": "e0205dae",
   "metadata": {},
   "outputs": [],
   "source": [
    "# remove item from set\n",
    "myset1={'tomato', 'onion', 'spinach', 'panneer'}\n",
    "#myset1.discard(\"tomato\")\n",
    "myset1.discard(\"tto\")# no error with non exist elem\n",
    "\n",
    "myset1"
   ]
  },
  {
   "cell_type": "code",
   "execution_count": null,
   "id": "a5e62feb",
   "metadata": {},
   "outputs": [],
   "source": [
    "# clear\n",
    "myset1={'tomato', 'onion', 'spinach', 'panneer'}\n",
    "myset1.clear()\n",
    "myset1"
   ]
  },
  {
   "cell_type": "code",
   "execution_count": null,
   "id": "e41976b1",
   "metadata": {},
   "outputs": [],
   "source": [
    "# union\n",
    "s1={1,2,3,4}\n",
    "s2={2,3,4,5}\n",
    "s1.union(s2)"
   ]
  },
  {
   "cell_type": "code",
   "execution_count": null,
   "id": "b1dd6835",
   "metadata": {},
   "outputs": [],
   "source": [
    "# intersection\n",
    "s1={1,2,3,4}\n",
    "s2={2,3,4,5}\n",
    "s1.intersection(s2)"
   ]
  },
  {
   "cell_type": "code",
   "execution_count": null,
   "id": "c6bf113c",
   "metadata": {},
   "outputs": [],
   "source": [
    "# combine\n",
    "s1={1,2,3,4}\n",
    "s2={2,3,4,5}\n",
    "s1.update(s2)\n",
    "s1"
   ]
  },
  {
   "cell_type": "markdown",
   "id": "a880c0e0",
   "metadata": {},
   "source": [
    "# Dictionary"
   ]
  },
  {
   "cell_type": "raw",
   "id": "fa1b0f86",
   "metadata": {},
   "source": [
    "based on key and value pair.\n",
    "key should be unique.\n",
    "value can be duplicate\n",
    "\n",
    "key \tvalue\n",
    "prod1\t100\n",
    "prod2\t200\n",
    "prod3\t100\n",
    "prod4\t400"
   ]
  },
  {
   "cell_type": "code",
   "execution_count": null,
   "id": "15dceb7e",
   "metadata": {},
   "outputs": [],
   "source": [
    "# creation 3.11.4\n",
    "dict1 = {10:12343, 10:1234, 0:1234, 4:123}\n",
    "dict1"
   ]
  },
  {
   "cell_type": "markdown",
   "id": "6f9c9de0",
   "metadata": {},
   "source": [
    "# Day5"
   ]
  },
  {
   "cell_type": "code",
   "execution_count": null,
   "id": "f0525923",
   "metadata": {},
   "outputs": [],
   "source": [
    "# duplicate key\n",
    "dict1 = {\"a\":\"apple\", \"b\":\"banana\", \"c\":\"cherry\", \"a\":\"appl1233cre\"}\n",
    "print(dict1)"
   ]
  },
  {
   "cell_type": "code",
   "execution_count": null,
   "id": "e1a651d4",
   "metadata": {},
   "outputs": [],
   "source": [
    "dict1[\"a\"]"
   ]
  },
  {
   "cell_type": "code",
   "execution_count": null,
   "id": "9f6b811e",
   "metadata": {},
   "outputs": [],
   "source": [
    "# create dict\n",
    "dict1 = {\"brand\":\"Tesla\", \"model\":\"1023\", \"year\":\"2022\"}\n",
    "dict1"
   ]
  },
  {
   "cell_type": "code",
   "execution_count": null,
   "id": "585aad10",
   "metadata": {},
   "outputs": [],
   "source": [
    "# accessing the values\n",
    "dict1 = {\"brand\":\"Tesla\", \"model\":\"1023\", \"year\":\"2022\"}\n",
    "dict1[\"brand\"]"
   ]
  },
  {
   "cell_type": "code",
   "execution_count": null,
   "id": "21fc5e23",
   "metadata": {},
   "outputs": [],
   "source": [
    "dict1[\"year\"]"
   ]
  },
  {
   "cell_type": "code",
   "execution_count": null,
   "id": "3900dfe9",
   "metadata": {},
   "outputs": [],
   "source": [
    "#2 \n",
    "dict1 = {\"brand\":\"Tesla\", \"model\":\"1023\", \"year\":\"2022\"}\n",
    "dict1.get(\"brand\")"
   ]
  },
  {
   "cell_type": "code",
   "execution_count": null,
   "id": "be1ae6ac",
   "metadata": {},
   "outputs": [],
   "source": [
    "dict1.get(\"model\")"
   ]
  },
  {
   "cell_type": "code",
   "execution_count": null,
   "id": "734629a5",
   "metadata": {},
   "outputs": [],
   "source": [
    "# change values\n",
    "dict1 = {\"brand\":\"Tesla\", \"model\":\"1023\", \"year\":\"2022\"}\n",
    "dict1[\"year\"]=2024 # 2024\n",
    "dict1"
   ]
  },
  {
   "cell_type": "code",
   "execution_count": null,
   "id": "a9a79daa",
   "metadata": {},
   "outputs": [],
   "source": [
    "# adding new items\n",
    "dict1 = {\"brand\":\"Tesla\", \"model\":\"1023\", \"year\":\"2022\"}\n",
    "dict1[\"color\"]=\"black\"\n",
    "dict1"
   ]
  },
  {
   "cell_type": "code",
   "execution_count": null,
   "id": "6fe265db",
   "metadata": {},
   "outputs": [],
   "source": [
    "# read the values using for loops\n",
    "#1\n",
    "dict1 = {\"brand\":\"Tesla\", \"model\":\"1023\", \"year\":\"2022\"}\n",
    "for i in dict1:\n",
    "    print(i)"
   ]
  },
  {
   "cell_type": "code",
   "execution_count": null,
   "id": "d357ef35",
   "metadata": {},
   "outputs": [],
   "source": [
    "#1\n",
    "dict1 = {\"brand\":\"Tesla\", \"model\":\"1023\", \"year\":\"2022\"}\n",
    "print(dict1.keys())# list of keys\n",
    "for i in dict1.keys():\n",
    "    print(i)"
   ]
  },
  {
   "cell_type": "code",
   "execution_count": null,
   "id": "67fbf900",
   "metadata": {},
   "outputs": [],
   "source": [
    "#2\n",
    "dict1 = {\"brand\":\"Tesla\", \"model\":\"1023\", \"year\":\"2022\"}\n",
    "print(dict1.values()) # list of values\n",
    "for i in dict1.values():\n",
    "    print(i)"
   ]
  },
  {
   "cell_type": "code",
   "execution_count": null,
   "id": "e87895f7",
   "metadata": {},
   "outputs": [],
   "source": [
    "# 3\n",
    "dict1 = {\"brand\":\"Tesla\", \"model\":\"1023\", \"year\":\"2022\"}\n",
    "print(dict1.items())\n",
    "for key, value in dict1.items():\n",
    "    print(key, value)\n",
    "for i, j in dict1.items():\n",
    "    print(i, j)"
   ]
  },
  {
   "cell_type": "code",
   "execution_count": null,
   "id": "cae0045e",
   "metadata": {},
   "outputs": [],
   "source": [
    "# check the exist\n",
    "list_keys= dict1.keys()\n",
    "\"brand\" in list_keys"
   ]
  },
  {
   "cell_type": "code",
   "execution_count": null,
   "id": "ac87e5f4",
   "metadata": {},
   "outputs": [],
   "source": [
    "# count\n",
    "len(dict1)# count of item"
   ]
  },
  {
   "cell_type": "code",
   "execution_count": null,
   "id": "d0502bb1",
   "metadata": {},
   "outputs": [],
   "source": [
    "# remove item from dict\n",
    "# 1\n",
    "dict1 = {\"brand\":\"Tesla\", \"model\":\"1023\", \"year\":\"2022\"}\n",
    "dict1.pop(\"model\")\n",
    "dict1"
   ]
  },
  {
   "cell_type": "code",
   "execution_count": null,
   "id": "382d145a",
   "metadata": {},
   "outputs": [],
   "source": [
    "dict1 = {\"brand\":\"Tesla\", \"model\":\"1023\", \"year\":\"2022\"}\n",
    "dict1.popitem()\n",
    "dict1"
   ]
  },
  {
   "cell_type": "code",
   "execution_count": null,
   "id": "c8a50a40",
   "metadata": {},
   "outputs": [],
   "source": [
    "# 2\n",
    "dict1 = {\"brand\":\"Tesla\", \"model\":\"1023\", \"year\":\"2022\"}\n",
    "del dict1['model']\n",
    "dict1"
   ]
  },
  {
   "cell_type": "code",
   "execution_count": null,
   "id": "a1e96cdd",
   "metadata": {},
   "outputs": [],
   "source": [
    "del dict1\n",
    "dict1"
   ]
  },
  {
   "cell_type": "code",
   "execution_count": null,
   "id": "094ce5b9",
   "metadata": {},
   "outputs": [],
   "source": [
    "# clear dict\n",
    "dict1 = {\"brand\":\"Tesla\", \"model\":\"1023\", \"year\":\"2022\"}\n",
    "dict1.clear()\n",
    "dict1 # empty"
   ]
  },
  {
   "cell_type": "code",
   "execution_count": null,
   "id": "ead95961",
   "metadata": {},
   "outputs": [],
   "source": [
    "# creatre empty dict\n",
    "dict1={}\n",
    "type(dict1) #dict\n",
    "dict1"
   ]
  },
  {
   "cell_type": "code",
   "execution_count": null,
   "id": "59ee2935",
   "metadata": {},
   "outputs": [],
   "source": [
    "dict1=dict()\n",
    "type(dict1) #dict\n",
    "dict1"
   ]
  },
  {
   "cell_type": "code",
   "execution_count": null,
   "id": "34513834",
   "metadata": {},
   "outputs": [],
   "source": [
    "# copy dict\n",
    "dict1 = {\"brand\":\"Tesla\", \"model\":\"1023\", \"year\":\"2022\"}\n",
    "dict2 = dict1.copy()\n",
    "dict2"
   ]
  },
  {
   "cell_type": "code",
   "execution_count": null,
   "id": "170a5be3",
   "metadata": {},
   "outputs": [],
   "source": [
    "dict1 = {\"brand\":\"Tesla\", \"model\":\"1023\", \"year\":\"2022\"}\n",
    "dict2 = dict1\n",
    "dict2"
   ]
  },
  {
   "cell_type": "code",
   "execution_count": null,
   "id": "7e21386e",
   "metadata": {},
   "outputs": [],
   "source": [
    "# update\n",
    "#change or add new items\n",
    "dict1 = {\"brand\":\"Tesla\", \"model\":\"1023\", \"year\":\"2022\"}\n",
    "# change values\n",
    "dict1.update({\"model\":\"2222\"})\n",
    "dict1\n"
   ]
  },
  {
   "cell_type": "code",
   "execution_count": null,
   "id": "0033967a",
   "metadata": {},
   "outputs": [],
   "source": [
    "# update\n",
    "#change or add new items\n",
    "dict1 = {\"brand\":\"Tesla\", \"model\":\"1023\", \"year\":\"2022\"}\n",
    "# new item\n",
    "dict1.update({\"color\":\"black\"})\n",
    "dict1"
   ]
  },
  {
   "cell_type": "code",
   "execution_count": null,
   "id": "2e47815d",
   "metadata": {},
   "outputs": [],
   "source": [
    "# interview\n",
    "# how to change key name?\n",
    "\n",
    "dict1 = {\"brand\":\"Tesla\", \"model\":\"1023\", \"year\":\"2022\"} # key model - modelid\n",
    "temp_model_value = dict1['model'] # temp var get model value\n",
    "dict1.pop(\"model\") # delete the key\n",
    "dict1['modelid'] = temp_model_value # add new item modelid: temp_var\n",
    "dict1"
   ]
  },
  {
   "cell_type": "markdown",
   "id": "f1fc6032",
   "metadata": {},
   "source": [
    "# https://pynative.com/python-exercises-with-solutions/"
   ]
  },
  {
   "cell_type": "markdown",
   "id": "063f77c5",
   "metadata": {},
   "source": [
    "# Functions"
   ]
  },
  {
   "cell_type": "raw",
   "id": "c895edd6",
   "metadata": {},
   "source": [
    "# Functions\n",
    "##############\n",
    "Set of statements can perform tasks\n",
    "1) function declaration/ creation - no memory allocted\n",
    "2) function invoke/ call - memory allocated"
   ]
  },
  {
   "cell_type": "code",
   "execution_count": null,
   "id": "2eaf09eb",
   "metadata": {},
   "outputs": [],
   "source": [
    "# def - pytho keyword for fuction\n",
    "def myfunc(): # creation\n",
    "    print(\"hello\")\n",
    "    \n",
    "myfunc() # invoke"
   ]
  },
  {
   "cell_type": "code",
   "execution_count": null,
   "id": "ad763e2a",
   "metadata": {},
   "outputs": [],
   "source": [
    "# ex2\n",
    "def myfunc(name): # creation\n",
    "    print(\"hello\", name)\n",
    "    \n",
    "myfunc(\"python\")"
   ]
  },
  {
   "cell_type": "code",
   "execution_count": null,
   "id": "9bec792c",
   "metadata": {},
   "outputs": [],
   "source": [
    "# ex3\n",
    "def add(a, b): # return addition of 2 number\n",
    "    return(a+b)\n",
    "    \n",
    "var1 = add(10,20)\n",
    "print(var1)"
   ]
  },
  {
   "cell_type": "code",
   "execution_count": null,
   "id": "f9882cfa",
   "metadata": {},
   "outputs": [],
   "source": [
    "# ex3\n",
    "def add(a, b): # return addition of 2 number\n",
    "    return(a+b)\n",
    "    \n",
    "print(add(10,20))"
   ]
  },
  {
   "cell_type": "code",
   "execution_count": null,
   "id": "de3c803c",
   "metadata": {},
   "outputs": [],
   "source": [
    "# return\n",
    "def myfunc():\n",
    "    return\n",
    "    \n",
    "print(myfunc())"
   ]
  },
  {
   "cell_type": "code",
   "execution_count": null,
   "id": "b17f7a0e",
   "metadata": {},
   "outputs": [],
   "source": [
    "# return\n",
    "def myfunc():\n",
    "    return 1\n",
    "    \n",
    "myfunc()"
   ]
  },
  {
   "cell_type": "code",
   "execution_count": null,
   "id": "1f0d6df6",
   "metadata": {},
   "outputs": [],
   "source": [
    "# without return\n",
    "def myfunc():\n",
    "    i=0\n",
    "print(myfunc())"
   ]
  },
  {
   "cell_type": "code",
   "execution_count": null,
   "id": "0b15646a",
   "metadata": {},
   "outputs": [],
   "source": [
    "# without return\n",
    "def myfunc():\n",
    "    print(\"hello\")\n",
    "myfunc()"
   ]
  },
  {
   "cell_type": "code",
   "execution_count": null,
   "id": "94f5cab9",
   "metadata": {},
   "outputs": [],
   "source": [
    "print(myfunc())"
   ]
  },
  {
   "cell_type": "raw",
   "id": "49cdde15",
   "metadata": {},
   "source": [
    "different ways to declare function: (parameters/arguments)\n",
    "1. No arugument with no return\n",
    "2. No arugument with return\n",
    "3. arugument with no return\n",
    "4. arugument with return "
   ]
  },
  {
   "cell_type": "raw",
   "id": "450919b8",
   "metadata": {},
   "source": [
    "# global vs local\n",
    "global variable created outside function\n",
    "local variable created inside function"
   ]
  },
  {
   "cell_type": "code",
   "execution_count": null,
   "id": "f34aeb19",
   "metadata": {},
   "outputs": [],
   "source": [
    "global_var=100\n",
    "\n",
    "def myfunc():\n",
    "    local_var=200\n",
    "    print(global_var)\n",
    "    print(local_var)\n",
    "myfunc()"
   ]
  },
  {
   "cell_type": "code",
   "execution_count": null,
   "id": "dde11093",
   "metadata": {},
   "outputs": [],
   "source": [
    "xy=100\n",
    "\n",
    "def myfunc():\n",
    "    global xy\n",
    "    print(xy)\n",
    "    xy=200\n",
    "    print(xy)\n",
    "myfunc()"
   ]
  },
  {
   "cell_type": "code",
   "execution_count": null,
   "id": "ac54f230",
   "metadata": {},
   "outputs": [],
   "source": [
    "x=100\n",
    "def myfunc(): # changing the global variable\n",
    "    global x\n",
    "    print(x)#100\n",
    "    x=500\n",
    "    print(x)# 500\n",
    "    \n",
    "print(x) # 100\n",
    "myfunc() # invoke\n",
    "print(x) # 500 # function changes value from 100 to 500\n"
   ]
  },
  {
   "cell_type": "raw",
   "id": "4e020d7a",
   "metadata": {},
   "source": [
    "2 types of arguments or parameter we can pass in function:\n",
    "##########################################################\n",
    "\n",
    "1) positional parameter\n",
    "2) keyword parameter"
   ]
  },
  {
   "cell_type": "code",
   "execution_count": null,
   "id": "0eb49814",
   "metadata": {},
   "outputs": [],
   "source": [
    "def myfunc(i,j):\n",
    "    print(i,j)\n",
    "myfunc(10,20) #positional parameter"
   ]
  },
  {
   "cell_type": "code",
   "execution_count": null,
   "id": "7f1bb48c",
   "metadata": {},
   "outputs": [],
   "source": [
    "myfunc(i=10,j=20)# keyword parameter"
   ]
  },
  {
   "cell_type": "code",
   "execution_count": null,
   "id": "94a4db62",
   "metadata": {},
   "outputs": [],
   "source": [
    "myfunc(j=10,i=20)## keyword parameter"
   ]
  },
  {
   "cell_type": "code",
   "execution_count": null,
   "id": "9642eeb1",
   "metadata": {},
   "outputs": [],
   "source": [
    "# default parameter\n",
    "def myfunc(i,j=10):\n",
    "    print(i,j)\n",
    "myfunc(10,20) #positional parameter"
   ]
  },
  {
   "cell_type": "code",
   "execution_count": null,
   "id": "73e7ac01",
   "metadata": {},
   "outputs": [],
   "source": [
    "# default parameter\n",
    "def myfunc(i,j=10):\n",
    "    print(i,j)\n",
    "myfunc(10)#positional parameter"
   ]
  },
  {
   "cell_type": "code",
   "execution_count": null,
   "id": "f1c4e687",
   "metadata": {},
   "outputs": [],
   "source": [
    "def myfunc(i,j,k):\n",
    "    print(i,j,k)\n",
    "myfunc(10,20,30) #positional parameter"
   ]
  },
  {
   "cell_type": "code",
   "execution_count": null,
   "id": "6bee4b72",
   "metadata": {},
   "outputs": [],
   "source": [
    "myfunc(i=10,j=20,k=30) #keyword parameter"
   ]
  },
  {
   "cell_type": "code",
   "execution_count": null,
   "id": "bcd0e7ac",
   "metadata": {},
   "outputs": [],
   "source": [
    "myfunc(k=10,j=20,i=30)# jumble keyword parameter"
   ]
  },
  {
   "cell_type": "code",
   "execution_count": null,
   "id": "7dcddaa7",
   "metadata": {},
   "outputs": [],
   "source": [
    "def myfunc(i,j,k):\n",
    "    print(i,j,k)\n",
    "myfunc(10,20,k=30)"
   ]
  },
  {
   "cell_type": "code",
   "execution_count": null,
   "id": "0333a4e5",
   "metadata": {},
   "outputs": [],
   "source": [
    "def myfunc(i,j,k):\n",
    "    print(i,j,k)\n",
    "myfunc(i=10,20,k=30)# positional argument follows keyword argument"
   ]
  },
  {
   "cell_type": "code",
   "execution_count": null,
   "id": "741026c6",
   "metadata": {},
   "outputs": [],
   "source": [
    "def myfunc(i,j,k):\n",
    "    print(i,j,k)\n",
    "myfunc(10,j=20,30)"
   ]
  },
  {
   "cell_type": "code",
   "execution_count": null,
   "id": "3af454f5",
   "metadata": {},
   "outputs": [],
   "source": [
    "def myfunc(i,j,k):\n",
    "    print(i,j,k)\n",
    "myfunc(10,20,i=30)#func() got multiple values for argument 'i'"
   ]
  },
  {
   "cell_type": "raw",
   "id": "7671faf0",
   "metadata": {},
   "source": [
    "rule 1: positional argument follows keyword argument\n",
    "rule 2: myfunc() got multiple values for argument 'i'"
   ]
  },
  {
   "cell_type": "markdown",
   "id": "29e10308",
   "metadata": {},
   "source": [
    "# Day6"
   ]
  },
  {
   "cell_type": "markdown",
   "id": "526ea0da",
   "metadata": {},
   "source": [
    "# OOPS concepts"
   ]
  },
  {
   "cell_type": "raw",
   "id": "8267ebc9",
   "metadata": {},
   "source": [
    "OOPS concepts:[object oriented programming system]\n",
    "#################################################\n",
    "1. python is structured and object oriented\n",
    "2. it supports oops concepts\n",
    "\n",
    "OOPS concepts:\n",
    "1. class\n",
    "2. object\n",
    "3. inheritance\n",
    "4. polymorphism"
   ]
  },
  {
   "cell_type": "raw",
   "id": "a61c3206",
   "metadata": {},
   "source": [
    "Class:\n",
    "1. blueprint or template[attributes or properties][variable or function]\n",
    "2. logical entity[busniess logic or plan]\n",
    "3. does not occupy space in memory"
   ]
  },
  {
   "cell_type": "raw",
   "id": "aeb84336",
   "metadata": {},
   "source": [
    "object:\n",
    "1. instance of class\n",
    "2. will accquire everything[functions and variables] from class\n",
    "3. multiple object can be created from class\n",
    "4. objects are independent to each other.\n",
    "5. physical entity\n",
    "6. occupy certain space in memory"
   ]
  },
  {
   "cell_type": "raw",
   "id": "e3cb00c7",
   "metadata": {},
   "source": [
    "function vs method\n",
    "outside/without class - function\n",
    "inside/with class - method"
   ]
  },
  {
   "cell_type": "code",
   "execution_count": 42,
   "id": "33104f6b",
   "metadata": {},
   "outputs": [
    {
     "name": "stdout",
     "output_type": "stream",
     "text": [
      "inside myclass\n",
      "inside myfunc in class\n"
     ]
    }
   ],
   "source": [
    "# class creation and invoke\n",
    "class myclass: # create class\n",
    "    print(\"inside myclass\")\n",
    "    def myfunc(self):\n",
    "        print(\"inside myfunc in class\")\n",
    "obj=myclass() # invoke the class create object\n",
    "obj.myfunc() # access the method use the object"
   ]
  },
  {
   "cell_type": "code",
   "execution_count": null,
   "id": "5561f0a3",
   "metadata": {},
   "outputs": [],
   "source": [
    "self:\n",
    "self represent class name\n",
    "self is the first parameter/default parameter in class method"
   ]
  },
  {
   "cell_type": "code",
   "execution_count": 46,
   "id": "fdb146b0",
   "metadata": {},
   "outputs": [
    {
     "name": "stdout",
     "output_type": "stream",
     "text": [
      "Hello scott\n",
      "Hello mary\n",
      "Hello lydia\n"
     ]
    }
   ],
   "source": [
    "# multiple object\n",
    "class myclass: # create class\n",
    "    def m1(self, name):\n",
    "        print(\"Hello\", name)\n",
    "        \n",
    "        \n",
    "obj1=myclass() # invoke the class create object\n",
    "obj1.m1(\"scott\") # access the method use the object\n",
    "# in python backend self=myclass<classname> is passed at the time of execution\n",
    "obj2=myclass() # invoke the class create object\n",
    "obj2.m1(\"mary\") # access the method use the object\n",
    "# in python backend self=myclass<classname> is passed at the time of execution\n",
    "obj3=myclass() # invoke the class create object\n",
    "obj3.m1(\"lydia\") # access the method use the object\n",
    "# in python backend self=myclass<classname> is passed at the time of execution"
   ]
  },
  {
   "cell_type": "raw",
   "id": "45cf7a54",
   "metadata": {},
   "source": [
    "types of method\n",
    "1. instance method - method defined inside the class - accessed using object\n",
    "2. static method - using @staticmethod annotation/ decorator method defined inside the class - accessed only using class name\n",
    "3. class method - using @classmethod annotation/ decorator method defined inside the class - accessed only using class name\n",
    "# calling method inside another method use self parameter"
   ]
  },
  {
   "cell_type": "code",
   "execution_count": 50,
   "id": "f2274b46",
   "metadata": {},
   "outputs": [
    {
     "name": "stdout",
     "output_type": "stream",
     "text": [
      "Hello scott from instance method\n",
      "Hello scott from static method\n"
     ]
    }
   ],
   "source": [
    "class myclass: # create class\n",
    "    def m1(self, name): # instance method\n",
    "        print(\"Hello\", name, \"from instance method\")\n",
    "    \n",
    "    @staticmethod\n",
    "    #def m2(self, name):# static method\n",
    "    #static method self represent normal parameter\n",
    "    def m2(name):\n",
    "        print(\"Hello\", name, \"from static method\")\n",
    "        \n",
    "obj = myclass()# instance of the class - process is call instantiation <create a space on memery>\n",
    "obj.m1(\"scott\")# instance method self represent class name\n",
    "obj.m2(\"scott\")# static method self represent normal parameter"
   ]
  },
  {
   "cell_type": "code",
   "execution_count": 55,
   "id": "92b7aea1",
   "metadata": {},
   "outputs": [
    {
     "name": "stdout",
     "output_type": "stream",
     "text": [
      "Hello scott from instance method\n",
      "Hello scott from static method\n",
      "Hello scott from static method\n",
      "Hello mary from class method\n",
      "Hello scott from class method\n"
     ]
    }
   ],
   "source": [
    "class myclass: # create class\n",
    "    def m1(self, name): # instance method\n",
    "        print(\"Hello\", name, \"from instance method\")\n",
    "    \n",
    "    @staticmethod\n",
    "    #def m2(self, name):# static method\n",
    "    #static method self represent normal parameter\n",
    "    def m2(name):\n",
    "        print(\"Hello\", name, \"from static method\")\n",
    "        \n",
    "    @classmethod\n",
    "    #classmethod self=cls cls represent class name\n",
    "    def m3(cls, name):\n",
    "        print(\"Hello\", name, \"from class method\")\n",
    "        \n",
    "obj = myclass()# instance of the class - process is call instantiation <create a space on memery>\n",
    "obj.m1(\"scott\")# instance method self represent class name\n",
    "obj.m2(\"scott\")# static method self represent normal parameter\n",
    "myclass.m2(\"scott\")\n",
    "obj.m3(\"mary\")\n",
    "myclass.m3(\"scott\")"
   ]
  },
  {
   "cell_type": "code",
   "execution_count": 3,
   "id": "f7f40728",
   "metadata": {},
   "outputs": [
    {
     "name": "stdout",
     "output_type": "stream",
     "text": [
      "student : david, age 10, school abc school\n",
      "student : david, age 10, school xyz school\n",
      "student : david, age 10, school xyz school\n"
     ]
    }
   ],
   "source": [
    "class student:\n",
    "    school_name=\"abc school\" # class variable\n",
    "    \n",
    "    def __init__(self, name, age):\n",
    "        self.name=name # constructor parameter to class var\n",
    "        self.age=age\n",
    "        \n",
    "    # instance method\n",
    "    # self represents cls name\n",
    "    def display(self):\n",
    "        print(f\"student : {self.name}, age {self.age}, school {self.school_name}\")\n",
    "        \n",
    "    @classmethod\n",
    "    # cls represents cls name\n",
    "    def modify_school(cls, m_school_name):\n",
    "        cls.school_name=m_school_name\n",
    "        \n",
    "    @staticmethod\n",
    "    def modify_school_static(m_school_name):\n",
    "        school_name=m_school_name   \n",
    "        \n",
    "obj=student(\"david\", 10)\n",
    "obj.display()\n",
    "# using class method\n",
    "obj.modify_school(\"xyz school\")\n",
    "obj.display()  \n",
    "# static method\n",
    "obj.modify_school_static(\"ijk school\")\n",
    "obj.display()\n",
    "        "
   ]
  },
  {
   "cell_type": "raw",
   "id": "112e0995",
   "metadata": {},
   "source": [
    "rule: Class/Static method remain same for all the objects you are going to create- bounded to class"
   ]
  },
  {
   "cell_type": "raw",
   "id": "8211c4d0",
   "metadata": {},
   "source": [
    "3 types of variables in class:\n",
    "    1. global variable\n",
    "    2. class variable\n",
    "    3. local/instance variable "
   ]
  },
  {
   "cell_type": "code",
   "execution_count": 59,
   "id": "6d5c6124",
   "metadata": {},
   "outputs": [
    {
     "name": "stdout",
     "output_type": "stream",
     "text": [
      "x100, y200\n",
      "a10, b20\n"
     ]
    }
   ],
   "source": [
    "class myclass:\n",
    "    a, b = 10, 20 # class var\n",
    "    \n",
    "    def add(self):\n",
    "        x,y=100,200 # local / instance variable\n",
    "        print(f\"instance variable: x{x}, y{y}\")\n",
    "        print(f\"class variable: a{self.a}, b{self.b}\") # self=myclass\n",
    "        \n",
    "obj= myclass()\n",
    "obj.add()"
   ]
  },
  {
   "cell_type": "code",
   "execution_count": 60,
   "id": "8028a3c6",
   "metadata": {},
   "outputs": [
    {
     "name": "stdout",
     "output_type": "stream",
     "text": [
      "instance variable: x100, y200\n",
      "class variable: a10, b20\n",
      "global variable: i1, j2\n"
     ]
    }
   ],
   "source": [
    "i,j=1,2 # global\n",
    "class myclass:\n",
    "    a, b = 10, 20 # class var\n",
    "    \n",
    "    def add(self, x, y):# local\n",
    "        print(f\"instance variable: x{x}, y{y}\")\n",
    "        print(f\"class variable: a{self.a}, b{self.b}\") # self=myclass\n",
    "        print(f\"global variable: i{i}, j{j}\")\n",
    "        \n",
    "obj= myclass()\n",
    "obj.add(100, 200)"
   ]
  },
  {
   "cell_type": "code",
   "execution_count": 74,
   "id": "1ac66da8",
   "metadata": {},
   "outputs": [
    {
     "name": "stdout",
     "output_type": "stream",
     "text": [
      "instance variable: x100, y200\n",
      "class variable: a10, b20\n",
      "global variable: i1, j2\n"
     ]
    }
   ],
   "source": [
    "a,b=1,2 # global i,j\n",
    "class myclass:\n",
    "    a, b = 10, 20 # class var\n",
    "    \n",
    "    def add(self,a, b):# local x, y\n",
    "        print(f\"instance variable: x{a}, y{b}\")\n",
    "        print(f\"class variable: a{self.a}, b{self.b}\") # self=myclass\n",
    "        print(f\"global variable: i{globals()['a']}, j{globals()['b']}\")\n",
    "        \n",
    "        \n",
    "obj= myclass()\n",
    "obj.add(100, 200)"
   ]
  },
  {
   "cell_type": "raw",
   "id": "d2a583a5",
   "metadata": {},
   "source": [
    "# constuctor\n",
    "def __init__(self, a,b):\n",
    "    pass\n",
    "will not return any value\n",
    "takes any parameter\n",
    "will get invoked at the time of object creation."
   ]
  },
  {
   "cell_type": "code",
   "execution_count": 75,
   "id": "3950ea0e",
   "metadata": {},
   "outputs": [
    {
     "name": "stdout",
     "output_type": "stream",
     "text": [
      "constrctor method\n"
     ]
    },
    {
     "data": {
      "text/plain": [
       "<__main__.myclass at 0x14ec855ed90>"
      ]
     },
     "execution_count": 75,
     "metadata": {},
     "output_type": "execute_result"
    }
   ],
   "source": [
    "class myclass:\n",
    "    def __init__(self): # default constructor\n",
    "        print(\"constrctor method\")\n",
    "        \n",
    "myclass()"
   ]
  },
  {
   "cell_type": "code",
   "execution_count": 77,
   "id": "bba4dd2f",
   "metadata": {},
   "outputs": [
    {
     "name": "stdout",
     "output_type": "stream",
     "text": [
      "constrctor method\n",
      "10 20\n"
     ]
    }
   ],
   "source": [
    "class myclass:\n",
    "    def __init__(self, a, b):# parameterized constructor \n",
    "        print(\"constrctor method\")\n",
    "        print(a,b)\n",
    "        \n",
    "obj = myclass(10, 20) # passing parameter"
   ]
  },
  {
   "cell_type": "code",
   "execution_count": 80,
   "id": "3453119d",
   "metadata": {},
   "outputs": [
    {
     "name": "stdout",
     "output_type": "stream",
     "text": [
      "constrctor method\n",
      "10 20\n",
      "hello scott\n"
     ]
    }
   ],
   "source": [
    "class myclass:\n",
    "    def __init__(self, a, b):\n",
    "        print(\"constrctor method\")\n",
    "        print(a,b)\n",
    "        \n",
    "    def m1(self, name):\n",
    "        print(\"hello\", name)\n",
    "        \n",
    "obj = myclass(10, 20) # object creation\n",
    "obj.m1(\"scott\")"
   ]
  },
  {
   "cell_type": "code",
   "execution_count": 84,
   "id": "0781666c",
   "metadata": {},
   "outputs": [
    {
     "name": "stdout",
     "output_type": "stream",
     "text": [
      "scott 101 50000\n"
     ]
    },
    {
     "ename": "NameError",
     "evalue": "name 'name' is not defined",
     "output_type": "error",
     "traceback": [
      "\u001b[1;31m---------------------------------------------------------------------------\u001b[0m",
      "\u001b[1;31mNameError\u001b[0m                                 Traceback (most recent call last)",
      "Cell \u001b[1;32mIn[84], line 18\u001b[0m\n\u001b[0;32m     15\u001b[0m         \u001b[38;5;28mprint\u001b[39m(name, eid, sal)\n\u001b[0;32m     17\u001b[0m obj\u001b[38;5;241m=\u001b[39m employee(\u001b[38;5;124m\"\u001b[39m\u001b[38;5;124mscott\u001b[39m\u001b[38;5;124m\"\u001b[39m, \u001b[38;5;241m101\u001b[39m, \u001b[38;5;241m50000\u001b[39m)\n\u001b[1;32m---> 18\u001b[0m obj\u001b[38;5;241m.\u001b[39mdisplay()\n",
      "Cell \u001b[1;32mIn[84], line 15\u001b[0m, in \u001b[0;36memployee.display\u001b[1;34m(self)\u001b[0m\n\u001b[0;32m     14\u001b[0m \u001b[38;5;28;01mdef\u001b[39;00m \u001b[38;5;21mdisplay\u001b[39m(\u001b[38;5;28mself\u001b[39m):\n\u001b[1;32m---> 15\u001b[0m     \u001b[38;5;28mprint\u001b[39m(name, eid, sal)\n",
      "\u001b[1;31mNameError\u001b[0m: name 'name' is not defined"
     ]
    }
   ],
   "source": [
    "# employee class\n",
    "# # constuctor\n",
    "# def __init__(self, a,b):\n",
    "#     pass\n",
    "# will not return any value\n",
    "# takes any parameter\n",
    "# will get invoked at the time of object creation.\n",
    "\n",
    "\n",
    "class employee:\n",
    "    def __init__(self, name, eid, sal):\n",
    "        print(name, eid, sal)\n",
    "        \n",
    "    def display(self):\n",
    "        print(name, eid, sal)\n",
    "        \n",
    "obj= employee(\"scott\", 101, 50000)\n",
    "obj.display()"
   ]
  },
  {
   "cell_type": "code",
   "execution_count": 87,
   "id": "7543817f",
   "metadata": {},
   "outputs": [
    {
     "name": "stdout",
     "output_type": "stream",
     "text": [
      "scott 101 50000\n",
      "scott 101 50000\n",
      "5000.0\n",
      "mary 101 80000\n",
      "mary 101 80000\n",
      "8000.0\n"
     ]
    }
   ],
   "source": [
    "# employee class\n",
    "# # constuctor\n",
    "# def __init__(self, a,b):\n",
    "#     pass\n",
    "# will not return any value\n",
    "# takes any parameter\n",
    "# will get invoked at the time of object creation.\n",
    "\n",
    "\n",
    "class employee:\n",
    "    def __init__(self, name, eid, sal):\n",
    "        print(name, eid, sal)\n",
    "        self.name = name \n",
    "        self.eid=eid\n",
    "        self.salary=sal\n",
    "        # covnert constructor parameter to class variable\n",
    "        \n",
    "    def display(self):\n",
    "        print(self.name, self.eid, self.salary)\n",
    "        \n",
    "    def bonus(self, percentage):\n",
    "        print((self.salary*percentage)/100)\n",
    "        \n",
    "obj= employee(\"scott\", 101, 50000)\n",
    "obj.display()\n",
    "obj.bonus(10)\n",
    "obj= employee(\"mary\", 101, 80000)\n",
    "obj.display()\n",
    "obj.bonus(10)"
   ]
  },
  {
   "cell_type": "raw",
   "id": "1cfe0825",
   "metadata": {},
   "source": [
    "3 . Inheritance\n",
    "Aquiring all the attributes from one class to another class is called inheritance\n",
    "class a---> abc (parent/ base/ super)\n",
    "class a1--->a1b1c1\n",
    "class b(a)--> xzy abc(child/derived/sub)\n",
    "using the child class we can access parent classes\n",
    "https://www.edureka.co/blog/wp-content/uploads/2017/07/Types-of-Inheritance.jpg"
   ]
  },
  {
   "cell_type": "code",
   "execution_count": 88,
   "id": "3ead1249",
   "metadata": {},
   "outputs": [
    {
     "name": "stdout",
     "output_type": "stream",
     "text": [
      "this is the method of parent class\n",
      "this is the method of child class\n"
     ]
    }
   ],
   "source": [
    "# single inheritance\n",
    "# one child one parent\n",
    "\n",
    "class parent:\n",
    "    def m1(self):\n",
    "        print(\"this is the method of parent class\")\n",
    "        \n",
    "class child(parent):\n",
    "    def m2(self):\n",
    "        print(\"this is the method of child class\")\n",
    "        \n",
    "obj=child()\n",
    "obj.m1()\n",
    "obj.m2()"
   ]
  },
  {
   "cell_type": "code",
   "execution_count": 89,
   "id": "77b35f79",
   "metadata": {},
   "outputs": [
    {
     "name": "stdout",
     "output_type": "stream",
     "text": [
      "this is the method of parent1 class\n",
      "this is the method of parent2 class\n",
      "this is the method of child class\n"
     ]
    }
   ],
   "source": [
    "# multilevel inheritance\n",
    "# parent1--parent2--parentn --child\n",
    "class parent1:\n",
    "    def m1(self):\n",
    "        print(\"this is the method of parent1 class\")\n",
    "        \n",
    "class parent2(parent1):\n",
    "    def m2(self):\n",
    "        print(\"this is the method of parent2 class\")\n",
    "        \n",
    "class child(parent2):\n",
    "    def m3(self):\n",
    "        print(\"this is the method of child class\")\n",
    "        \n",
    "obj=child()\n",
    "obj.m1()\n",
    "obj.m2()\n",
    "obj.m3()"
   ]
  },
  {
   "cell_type": "code",
   "execution_count": 91,
   "id": "4731a359",
   "metadata": {},
   "outputs": [
    {
     "name": "stdout",
     "output_type": "stream",
     "text": [
      "this is the method of parent1 class\n",
      "this is the method of parent2 class\n"
     ]
    }
   ],
   "source": [
    "obj=parent2()\n",
    "obj.m1()\n",
    "obj.m2()"
   ]
  },
  {
   "cell_type": "code",
   "execution_count": 93,
   "id": "789d4f95",
   "metadata": {},
   "outputs": [
    {
     "name": "stdout",
     "output_type": "stream",
     "text": [
      "this is the method of parent class\n",
      "this is the method of child1 class\n",
      "this is the method of child2 class\n"
     ]
    }
   ],
   "source": [
    "# heirarchiel inheritance\n",
    "# parent having more than one chils\n",
    "class parent:\n",
    "    def m1(self):\n",
    "        print(\"this is the method of parent class\")\n",
    "        \n",
    "class child1(parent):\n",
    "    def m2(self):\n",
    "        print(\"this is the method of child1 class\")\n",
    "        \n",
    "class child2(parent):\n",
    "    def m3(self):\n",
    "        print(\"this is the method of child2 class\")\n",
    "        \n",
    "obj1=child1()\n",
    "obj1.m1()\n",
    "obj1.m2()\n",
    "obj2=child2()\n",
    "obj2.m1()\n",
    "obj2.m3()"
   ]
  },
  {
   "cell_type": "code",
   "execution_count": 94,
   "id": "229f547d",
   "metadata": {},
   "outputs": [
    {
     "name": "stdout",
     "output_type": "stream",
     "text": [
      "this is the method of parent1 class\n",
      "this is the method of parent2 class\n",
      "this is the method of child class\n"
     ]
    }
   ],
   "source": [
    "# multiple inheritance\n",
    "# onechild multiple parents\n",
    "\n",
    "class parent1:\n",
    "    def m1(self):\n",
    "        print(\"this is the method of parent1 class\")\n",
    "        \n",
    "class parent2:\n",
    "    def m2(self):\n",
    "        print(\"this is the method of parent2 class\")\n",
    "        \n",
    "class child(parent1, parent2):\n",
    "    def m3(self):\n",
    "        print(\"this is the method of child class\")\n",
    "        \n",
    "obj = child()\n",
    "obj.m1()\n",
    "obj.m2()\n",
    "obj.m3()"
   ]
  },
  {
   "cell_type": "code",
   "execution_count": 95,
   "id": "2a06ccc7",
   "metadata": {},
   "outputs": [
    {
     "name": "stdout",
     "output_type": "stream",
     "text": [
      "this is the method of parent class\n",
      "this is the method of child1 class\n",
      "this is the method of child2 class\n",
      "this is the method of child11 class\n"
     ]
    }
   ],
   "source": [
    "# hybrid inheritance\n",
    "# mix of all types of inheritance\n",
    "class parent:\n",
    "    def m1(self):\n",
    "        print(\"this is the method of parent class\")\n",
    "        \n",
    "class child1(parent):\n",
    "    def m2(self):\n",
    "        print(\"this is the method of child1 class\")\n",
    "        \n",
    "class child2(parent):\n",
    "    def m3(self):\n",
    "        print(\"this is the method of child2 class\")\n",
    "        \n",
    "class child11(child1, child2):\n",
    "    def m4(self):\n",
    "        print(\"this is the method of child11 class\")\n",
    "        \n",
    "obj=child11()\n",
    "obj.m1()\n",
    "obj.m2()\n",
    "obj.m3()\n",
    "obj.m4()\n"
   ]
  },
  {
   "cell_type": "code",
   "execution_count": 97,
   "id": "18c00ced",
   "metadata": {},
   "outputs": [
    {
     "name": "stdout",
     "output_type": "stream",
     "text": [
      "this is the method of child class\n"
     ]
    }
   ],
   "source": [
    "class parent:\n",
    "    def m1(self):\n",
    "        print(\"this is the method of parent class\")\n",
    "        \n",
    "class parent1:\n",
    "    def m1(self):\n",
    "        print(\"this is the method of parent1 class\")\n",
    "\n",
    "class child(parent, parent1):\n",
    "    def m1(self):\n",
    "        print(\"this is the method of child class\")\n",
    "        \n",
    "obj=child()\n",
    "obj.m1()"
   ]
  },
  {
   "cell_type": "code",
   "execution_count": 102,
   "id": "c4b61cf3",
   "metadata": {},
   "outputs": [
    {
     "name": "stdout",
     "output_type": "stream",
     "text": [
      "this is the method of parent2 class\n"
     ]
    }
   ],
   "source": [
    "class parent1:\n",
    "    def m1(self):\n",
    "        print(\"this is the method of parent1 class\")\n",
    "        \n",
    "class parent2:\n",
    "    def m1(self):\n",
    "        print(\"this is the method of parent2 class\")\n",
    "\n",
    "class child(parent2, parent1):\n",
    "    def m2(self):\n",
    "        print(\"this is the method of child class\")\n",
    "        \n",
    "obj=child()\n",
    "obj.m1()\n",
    "#obj.m2()"
   ]
  },
  {
   "cell_type": "raw",
   "id": "0f0d57c3",
   "metadata": {},
   "source": [
    "MRO- method resolution order \n",
    "# will give proirity to child\n",
    "# take the order that we pass in parameter"
   ]
  },
  {
   "cell_type": "code",
   "execution_count": 106,
   "id": "bbb3bf5c",
   "metadata": {},
   "outputs": [
    {
     "name": "stdout",
     "output_type": "stream",
     "text": [
      "this is the method of child class\n",
      "this is the method of parent1 class\n",
      "this is the method of parent2 class\n"
     ]
    }
   ],
   "source": [
    "class parent1:\n",
    "    def m1(self):\n",
    "        print(\"this is the method of parent1 class\")\n",
    "        \n",
    "class parent2:\n",
    "    def m1(self):\n",
    "        print(\"this is the method of parent2 class\")\n",
    "\n",
    "class child(parent2, parent1):\n",
    "    def m1(self):\n",
    "        print(\"this is the method of child class\")\n",
    "        # call parent method explicity\n",
    "        parent1.m1(self) # calling method inside another method use self parameter\n",
    "        parent2.m1(self)\n",
    "        \n",
    "obj=child()\n",
    "obj.m1()\n",
    "#obj.m2()"
   ]
  },
  {
   "cell_type": "code",
   "execution_count": 107,
   "id": "0edd73a7",
   "metadata": {},
   "outputs": [
    {
     "name": "stdout",
     "output_type": "stream",
     "text": [
      "this is the method of child class\n",
      "this is the method of parent2 class\n"
     ]
    }
   ],
   "source": [
    "class parent1:\n",
    "    def m1(self):\n",
    "        print(\"this is the method of parent1 class\")\n",
    "        \n",
    "class parent2:\n",
    "    def m1(self):\n",
    "        print(\"this is the method of parent2 class\")\n",
    "\n",
    "class child(parent2, parent1):\n",
    "    def m1(self):\n",
    "        print(\"this is the method of child class\")\n",
    "        # call parent method using super class\n",
    "        super().m1() # super()=parent class \n",
    "        \n",
    "obj=child()\n",
    "obj.m1()\n",
    "#obj.m2()"
   ]
  },
  {
   "cell_type": "markdown",
   "id": "d890add0",
   "metadata": {},
   "source": [
    "# 4. polymorpism"
   ]
  },
  {
   "cell_type": "raw",
   "id": "11baa3f3",
   "metadata": {},
   "source": [
    "1. overriding(methods or function)\n",
    "2. overloading(parameter)"
   ]
  },
  {
   "cell_type": "code",
   "execution_count": 108,
   "id": "5ae0d14f",
   "metadata": {},
   "outputs": [
    {
     "name": "stdout",
     "output_type": "stream",
     "text": [
      "func1 again\n"
     ]
    }
   ],
   "source": [
    "# overriding # overwiting the function\n",
    "# multiple functions using sigle name\n",
    "\n",
    "def func1():\n",
    "    print(\"func1\")\n",
    "    \n",
    "def func1():\n",
    "    print(\"func1 again\")\n",
    "    \n",
    "func1() # no overriding concept in python"
   ]
  },
  {
   "cell_type": "code",
   "execution_count": 109,
   "id": "446f3c72",
   "metadata": {},
   "outputs": [
    {
     "name": "stdout",
     "output_type": "stream",
     "text": [
      "this is the method1 of A class again\n"
     ]
    }
   ],
   "source": [
    "class A:\n",
    "    def m1(self):\n",
    "        print(\"this is the method1 of A class\")\n",
    "        \n",
    "    def m1(self):\n",
    "        print(\"this is the method1 of A class again\")\n",
    "        \n",
    "obj=A()\n",
    "obj.m1()# no overriding concept in python"
   ]
  },
  {
   "cell_type": "code",
   "execution_count": 113,
   "id": "b889312a",
   "metadata": {},
   "outputs": [
    {
     "data": {
      "text/plain": [
       "6"
      ]
     },
     "execution_count": 113,
     "metadata": {},
     "output_type": "execute_result"
    }
   ],
   "source": [
    "# overloading\n",
    "len([1,2,3,4,123434])\n",
    "len((1,2,3,4))\n",
    "len(\"string\")"
   ]
  },
  {
   "cell_type": "code",
   "execution_count": 114,
   "id": "35a62c74",
   "metadata": {},
   "outputs": [
    {
     "ename": "TypeError",
     "evalue": "add() missing 2 required positional arguments: 'c' and 'd'",
     "output_type": "error",
     "traceback": [
      "\u001b[1;31m---------------------------------------------------------------------------\u001b[0m",
      "\u001b[1;31mTypeError\u001b[0m                                 Traceback (most recent call last)",
      "Cell \u001b[1;32mIn[114], line 7\u001b[0m\n\u001b[0;32m      4\u001b[0m \u001b[38;5;28;01mdef\u001b[39;00m \u001b[38;5;21madd\u001b[39m(a,b,c,d):\n\u001b[0;32m      5\u001b[0m     \u001b[38;5;28mprint\u001b[39m(a\u001b[38;5;241m+\u001b[39mb\u001b[38;5;241m+\u001b[39mc\u001b[38;5;241m+\u001b[39md)\n\u001b[1;32m----> 7\u001b[0m add(\u001b[38;5;241m10\u001b[39m,\u001b[38;5;241m20\u001b[39m)\n",
      "\u001b[1;31mTypeError\u001b[0m: add() missing 2 required positional arguments: 'c' and 'd'"
     ]
    }
   ],
   "source": [
    "def add(a,b):\n",
    "    print(a+b)\n",
    "    \n",
    "def add(a,b,c,d):\n",
    "    print(a+b+c+d)\n",
    "    \n",
    "add(10,20)"
   ]
  },
  {
   "cell_type": "code",
   "execution_count": 117,
   "id": "b5e3260a",
   "metadata": {},
   "outputs": [
    {
     "name": "stdout",
     "output_type": "stream",
     "text": [
      "60\n"
     ]
    }
   ],
   "source": [
    "def add(a,b):\n",
    "    print(a+b)\n",
    "    \n",
    "def add(a=0,b=0,c=0,d=0): # indirect method for method overloading\n",
    "    print(a+b+c+d)\n",
    "    \n",
    "add(10,20,10,20)"
   ]
  },
  {
   "cell_type": "code",
   "execution_count": 120,
   "id": "0cf55bbb",
   "metadata": {},
   "outputs": [
    {
     "name": "stdout",
     "output_type": "stream",
     "text": [
      "(10, 20, 30, 40, 50, 1, 2, 3, 4)\n",
      "160\n"
     ]
    }
   ],
   "source": [
    "def add(*args): # positional parameter\n",
    "    print(args) # returning all parameters in tuple\n",
    "    sum =0\n",
    "    for i in args:\n",
    "        sum = sum + i\n",
    "    print(sum)\n",
    "    \n",
    "add(10,20,30,40,50,1,2,3,4)"
   ]
  },
  {
   "cell_type": "code",
   "execution_count": 126,
   "id": "888df8b3",
   "metadata": {},
   "outputs": [
    {
     "name": "stdout",
     "output_type": "stream",
     "text": [
      "{'x': 10, 'a': 20, 'b': 30, 'c': 40, 'd': 50, 'e': 1, 'f': 2, 'g': 3, 'h': 4}\n",
      "160\n"
     ]
    }
   ],
   "source": [
    "def add(**kargs): # keyword parameter\n",
    "    print(kargs) # returning all parameters in dict\n",
    "    sum =0\n",
    "    for i in kargs.values():\n",
    "        sum = sum + i\n",
    "    print(sum)\n",
    "add(x=10,a=20,b=30,c=40,d=50,e=1,f=2,g=3,h=4)"
   ]
  },
  {
   "cell_type": "code",
   "execution_count": 4,
   "id": "bdf49d7f",
   "metadata": {},
   "outputs": [],
   "source": [
    "# interview\n",
    "# palindrome\n",
    "# fibnocci\n",
    "# primenumber\n",
    "# sorting without using in build ()\n",
    "# remove duplicate"
   ]
  },
  {
   "cell_type": "markdown",
   "id": "366d6318",
   "metadata": {},
   "source": [
    "# Day7"
   ]
  },
  {
   "cell_type": "markdown",
   "id": "577c3af3",
   "metadata": {},
   "source": [
    "# Error or exception\n",
    "# Exception handling"
   ]
  },
  {
   "cell_type": "code",
   "execution_count": 5,
   "id": "d5215460",
   "metadata": {},
   "outputs": [
    {
     "ename": "NameError",
     "evalue": "name 'aa' is not defined",
     "output_type": "error",
     "traceback": [
      "\u001b[1;31m---------------------------------------------------------------------------\u001b[0m",
      "\u001b[1;31mNameError\u001b[0m                                 Traceback (most recent call last)",
      "Cell \u001b[1;32mIn[5], line 1\u001b[0m\n\u001b[1;32m----> 1\u001b[0m \u001b[38;5;28mprint\u001b[39m(aa)\n",
      "\u001b[1;31mNameError\u001b[0m: name 'aa' is not defined"
     ]
    }
   ],
   "source": [
    "print(aa)#NameError"
   ]
  },
  {
   "cell_type": "code",
   "execution_count": 6,
   "id": "b91ded68",
   "metadata": {},
   "outputs": [
    {
     "ename": "SyntaxError",
     "evalue": "expected ':' (1222575477.py, line 1)",
     "output_type": "error",
     "traceback": [
      "\u001b[1;36m  Cell \u001b[1;32mIn[6], line 1\u001b[1;36m\u001b[0m\n\u001b[1;33m    if 1>2\u001b[0m\n\u001b[1;37m          ^\u001b[0m\n\u001b[1;31mSyntaxError\u001b[0m\u001b[1;31m:\u001b[0m expected ':'\n"
     ]
    }
   ],
   "source": [
    "if 1>2# SyntaxError: \n",
    " print(False)"
   ]
  },
  {
   "cell_type": "code",
   "execution_count": 7,
   "id": "6e2aa79d",
   "metadata": {},
   "outputs": [
    {
     "ename": "ZeroDivisionError",
     "evalue": "division by zero",
     "output_type": "error",
     "traceback": [
      "\u001b[1;31m---------------------------------------------------------------------------\u001b[0m",
      "\u001b[1;31mZeroDivisionError\u001b[0m                         Traceback (most recent call last)",
      "Cell \u001b[1;32mIn[7], line 1\u001b[0m\n\u001b[1;32m----> 1\u001b[0m \u001b[38;5;28mprint\u001b[39m(\u001b[38;5;241m1\u001b[39m\u001b[38;5;241m/\u001b[39m\u001b[38;5;241m0\u001b[39m)\n",
      "\u001b[1;31mZeroDivisionError\u001b[0m: division by zero"
     ]
    }
   ],
   "source": [
    "print(1/0) # ZeroDivisionError"
   ]
  },
  {
   "cell_type": "code",
   "execution_count": 8,
   "id": "10fa4405",
   "metadata": {},
   "outputs": [
    {
     "ename": "TypeError",
     "evalue": "unsupported operand type(s) for +: 'int' and 'str'",
     "output_type": "error",
     "traceback": [
      "\u001b[1;31m---------------------------------------------------------------------------\u001b[0m",
      "\u001b[1;31mTypeError\u001b[0m                                 Traceback (most recent call last)",
      "Cell \u001b[1;32mIn[8], line 3\u001b[0m\n\u001b[0;32m      1\u001b[0m a\u001b[38;5;241m=\u001b[39m\u001b[38;5;241m10\u001b[39m\n\u001b[0;32m      2\u001b[0m b\u001b[38;5;241m=\u001b[39m\u001b[38;5;124m\"\u001b[39m\u001b[38;5;124mstring\u001b[39m\u001b[38;5;124m\"\u001b[39m\n\u001b[1;32m----> 3\u001b[0m a\u001b[38;5;241m+\u001b[39mb\n",
      "\u001b[1;31mTypeError\u001b[0m: unsupported operand type(s) for +: 'int' and 'str'"
     ]
    }
   ],
   "source": [
    "a=10\n",
    "b=\"string\"\n",
    "a+b#TypeError"
   ]
  },
  {
   "cell_type": "code",
   "execution_count": 15,
   "id": "85efc5ce",
   "metadata": {},
   "outputs": [
    {
     "data": {
      "text/plain": [
       "['ArithmeticError',\n",
       " 'AssertionError',\n",
       " 'AttributeError',\n",
       " 'BaseException',\n",
       " 'BaseExceptionGroup',\n",
       " 'BlockingIOError',\n",
       " 'BrokenPipeError',\n",
       " 'BufferError',\n",
       " 'BytesWarning',\n",
       " 'ChildProcessError',\n",
       " 'ConnectionAbortedError',\n",
       " 'ConnectionError',\n",
       " 'ConnectionRefusedError',\n",
       " 'ConnectionResetError',\n",
       " 'DeprecationWarning',\n",
       " 'EOFError',\n",
       " 'Ellipsis',\n",
       " 'EncodingWarning',\n",
       " 'EnvironmentError',\n",
       " 'Exception',\n",
       " 'ExceptionGroup',\n",
       " 'False',\n",
       " 'FileExistsError',\n",
       " 'FileNotFoundError',\n",
       " 'FloatingPointError',\n",
       " 'FutureWarning',\n",
       " 'GeneratorExit',\n",
       " 'IOError',\n",
       " 'ImportError',\n",
       " 'ImportWarning',\n",
       " 'IndentationError',\n",
       " 'IndexError',\n",
       " 'InterruptedError',\n",
       " 'IsADirectoryError',\n",
       " 'KeyError',\n",
       " 'KeyboardInterrupt',\n",
       " 'LookupError',\n",
       " 'MemoryError',\n",
       " 'ModuleNotFoundError',\n",
       " 'NameError',\n",
       " 'None',\n",
       " 'NotADirectoryError',\n",
       " 'NotImplemented',\n",
       " 'NotImplementedError',\n",
       " 'OSError',\n",
       " 'OverflowError',\n",
       " 'PendingDeprecationWarning',\n",
       " 'PermissionError',\n",
       " 'ProcessLookupError',\n",
       " 'RecursionError',\n",
       " 'ReferenceError',\n",
       " 'ResourceWarning',\n",
       " 'RuntimeError',\n",
       " 'RuntimeWarning',\n",
       " 'StopAsyncIteration',\n",
       " 'StopIteration',\n",
       " 'SyntaxError',\n",
       " 'SyntaxWarning',\n",
       " 'SystemError',\n",
       " 'SystemExit',\n",
       " 'TabError',\n",
       " 'TimeoutError',\n",
       " 'True',\n",
       " 'TypeError',\n",
       " 'UnboundLocalError',\n",
       " 'UnicodeDecodeError',\n",
       " 'UnicodeEncodeError',\n",
       " 'UnicodeError',\n",
       " 'UnicodeTranslateError',\n",
       " 'UnicodeWarning',\n",
       " 'UserWarning',\n",
       " 'ValueError',\n",
       " 'Warning',\n",
       " 'WindowsError',\n",
       " 'ZeroDivisionError',\n",
       " '__IPYTHON__',\n",
       " '__build_class__',\n",
       " '__debug__',\n",
       " '__doc__',\n",
       " '__import__',\n",
       " '__loader__',\n",
       " '__name__',\n",
       " '__package__',\n",
       " '__spec__',\n",
       " 'abs',\n",
       " 'aiter',\n",
       " 'all',\n",
       " 'anext',\n",
       " 'any',\n",
       " 'ascii',\n",
       " 'bin',\n",
       " 'bool',\n",
       " 'breakpoint',\n",
       " 'bytearray',\n",
       " 'bytes',\n",
       " 'callable',\n",
       " 'chr',\n",
       " 'classmethod',\n",
       " 'compile',\n",
       " 'complex',\n",
       " 'copyright',\n",
       " 'credits',\n",
       " 'delattr',\n",
       " 'dict',\n",
       " 'dir',\n",
       " 'display',\n",
       " 'divmod',\n",
       " 'enumerate',\n",
       " 'eval',\n",
       " 'exec',\n",
       " 'execfile',\n",
       " 'filter',\n",
       " 'float',\n",
       " 'format',\n",
       " 'frozenset',\n",
       " 'get_ipython',\n",
       " 'getattr',\n",
       " 'globals',\n",
       " 'hasattr',\n",
       " 'hash',\n",
       " 'help',\n",
       " 'hex',\n",
       " 'id',\n",
       " 'input',\n",
       " 'int',\n",
       " 'isinstance',\n",
       " 'issubclass',\n",
       " 'iter',\n",
       " 'len',\n",
       " 'license',\n",
       " 'list',\n",
       " 'locals',\n",
       " 'map',\n",
       " 'max',\n",
       " 'memoryview',\n",
       " 'min',\n",
       " 'next',\n",
       " 'object',\n",
       " 'oct',\n",
       " 'open',\n",
       " 'ord',\n",
       " 'pow',\n",
       " 'print',\n",
       " 'property',\n",
       " 'range',\n",
       " 'repr',\n",
       " 'reversed',\n",
       " 'round',\n",
       " 'runfile',\n",
       " 'set',\n",
       " 'setattr',\n",
       " 'slice',\n",
       " 'sorted',\n",
       " 'staticmethod',\n",
       " 'str',\n",
       " 'sum',\n",
       " 'super',\n",
       " 'tuple',\n",
       " 'type',\n",
       " 'vars',\n",
       " 'zip']"
      ]
     },
     "execution_count": 15,
     "metadata": {},
     "output_type": "execute_result"
    }
   ],
   "source": [
    "import builtins\n",
    "dir(builtins)"
   ]
  },
  {
   "cell_type": "code",
   "execution_count": 16,
   "id": "6137c2f4",
   "metadata": {},
   "outputs": [
    {
     "name": "stdout",
     "output_type": "stream",
     "text": [
      "statement1\n",
      "statement1\n",
      "statement1\n",
      "statement1\n",
      "statement1\n"
     ]
    },
    {
     "ename": "ZeroDivisionError",
     "evalue": "division by zero",
     "output_type": "error",
     "traceback": [
      "\u001b[1;31m---------------------------------------------------------------------------\u001b[0m",
      "\u001b[1;31mZeroDivisionError\u001b[0m                         Traceback (most recent call last)",
      "Cell \u001b[1;32mIn[16], line 6\u001b[0m\n\u001b[0;32m      4\u001b[0m \u001b[38;5;28mprint\u001b[39m(\u001b[38;5;124m\"\u001b[39m\u001b[38;5;124mstatement1\u001b[39m\u001b[38;5;124m\"\u001b[39m)\n\u001b[0;32m      5\u001b[0m \u001b[38;5;28mprint\u001b[39m(\u001b[38;5;124m\"\u001b[39m\u001b[38;5;124mstatement1\u001b[39m\u001b[38;5;124m\"\u001b[39m)\n\u001b[1;32m----> 6\u001b[0m \u001b[38;5;28mprint\u001b[39m(\u001b[38;5;241m1\u001b[39m\u001b[38;5;241m/\u001b[39m\u001b[38;5;241m0\u001b[39m)\n\u001b[0;32m      7\u001b[0m \u001b[38;5;28mprint\u001b[39m(\u001b[38;5;124m\"\u001b[39m\u001b[38;5;124mstatement2\u001b[39m\u001b[38;5;124m\"\u001b[39m)\n\u001b[0;32m      8\u001b[0m \u001b[38;5;28mprint\u001b[39m(\u001b[38;5;124m\"\u001b[39m\u001b[38;5;124mstatement2\u001b[39m\u001b[38;5;124m\"\u001b[39m)\n",
      "\u001b[1;31mZeroDivisionError\u001b[0m: division by zero"
     ]
    }
   ],
   "source": [
    "print(\"statement1\")\n",
    "print(\"statement1\")\n",
    "print(\"statement1\")\n",
    "print(\"statement1\")\n",
    "print(\"statement1\")\n",
    "print(1/0)\n",
    "print(\"statement2\")\n",
    "print(\"statement2\")\n",
    "print(\"statement2\")\n",
    "print(\"statement2\")"
   ]
  },
  {
   "cell_type": "code",
   "execution_count": 18,
   "id": "436769ce",
   "metadata": {},
   "outputs": [
    {
     "name": "stdout",
     "output_type": "stream",
     "text": [
      "statement1\n",
      "statement1\n",
      "exception caught\n",
      "statement2\n",
      "statement2\n"
     ]
    }
   ],
   "source": [
    "# try ...except\n",
    "print(\"statement1\")\n",
    "print(\"statement1\")\n",
    "try:\n",
    "    #print(1/0)# ZeroDivisionError\n",
    "    a=10\n",
    "    b=\"string\"\n",
    "    print(a+b)\n",
    "except:\n",
    "    print(\"exception caught\")\n",
    "print(\"statement2\")\n",
    "print(\"statement2\")"
   ]
  },
  {
   "cell_type": "code",
   "execution_count": 22,
   "id": "41de7f84",
   "metadata": {},
   "outputs": [
    {
     "name": "stdout",
     "output_type": "stream",
     "text": [
      "statement1\n",
      "statement1\n",
      "exception caught\n",
      "division by zero\n",
      "statement2\n",
      "statement2\n"
     ]
    }
   ],
   "source": [
    "# try ...except\n",
    "print(\"statement1\")\n",
    "print(\"statement1\")\n",
    "try:\n",
    "    print(1/0)# ZeroDivisionError\n",
    "    #a=10\n",
    "    #b=\"string\"\n",
    "    #print(a+b)\n",
    "except Exception as var:# keyword will catch all types of exception\n",
    "    print(\"exception caught\")\n",
    "    print(var)\n",
    "print(\"statement2\")\n",
    "print(\"statement2\")"
   ]
  },
  {
   "cell_type": "code",
   "execution_count": 31,
   "id": "e53e855e",
   "metadata": {},
   "outputs": [
    {
     "name": "stdout",
     "output_type": "stream",
     "text": [
      "statement1\n",
      "statement1\n",
      "some exception caught !!! please check\n",
      "name 'aa' is not defined\n",
      "statement2\n",
      "statement2\n"
     ]
    }
   ],
   "source": [
    "# example2\n",
    "print(\"statement1\")\n",
    "print(\"statement1\")\n",
    "try:\n",
    "    #print(1/0)# ZeroDivisionError\n",
    "    #a=10\n",
    "    #b=\"string\"\n",
    "    #print(a+b)\n",
    "    print(aa)#NameError\n",
    "except ZeroDivisionError as var:# keyword will catch all types of exception\n",
    "    print(\"ZeroDivisionError caught !!!\")\n",
    "    print(var)\n",
    "except TypeError as var:\n",
    "    print(\"TypeError caught !!!\")\n",
    "    print(var)\n",
    "except Exception as var:\n",
    "    print(\"some exception caught !!! please check\")\n",
    "    print(var)\n",
    "print(\"statement2\")\n",
    "print(\"statement2\")"
   ]
  },
  {
   "cell_type": "code",
   "execution_count": 32,
   "id": "fdef0457",
   "metadata": {},
   "outputs": [],
   "source": [
    "# except - exceted when error happens in try block\n",
    "# else - executed when no error happens in try block\n",
    "# finally - executed always\n",
    "# else and finally block are optional"
   ]
  },
  {
   "cell_type": "code",
   "execution_count": 33,
   "id": "f39d861e",
   "metadata": {},
   "outputs": [
    {
     "name": "stdout",
     "output_type": "stream",
     "text": [
      "NameError caught !!! please check\n",
      "name 'aa' is not defined\n",
      "always executed\n"
     ]
    }
   ],
   "source": [
    "try:\n",
    "    #aa=5\n",
    "    print(aa)#NameError\n",
    "except Exception as var:\n",
    "    print(\"NameError caught !!! please check\")\n",
    "    print(var)\n",
    "else:\n",
    "    print(\"no exception caught\")\n",
    "finally:\n",
    "    print(\"always executed\")"
   ]
  },
  {
   "cell_type": "code",
   "execution_count": 34,
   "id": "5b39d793",
   "metadata": {},
   "outputs": [
    {
     "name": "stdout",
     "output_type": "stream",
     "text": [
      "5\n",
      "no exception caught\n",
      "always executed\n"
     ]
    }
   ],
   "source": [
    "try:\n",
    "    aa=5\n",
    "    print(aa)#NameError\n",
    "except Exception as var:\n",
    "    print(\"NameError caught !!! please check\")\n",
    "    print(var)\n",
    "else:\n",
    "    print(\"no exception caught\")\n",
    "finally:\n",
    "    print(\"always executed\") # revert default value, cleanup"
   ]
  },
  {
   "cell_type": "code",
   "execution_count": 35,
   "id": "4374394e",
   "metadata": {},
   "outputs": [],
   "source": [
    "# user induced exception\n",
    "# 1. raise - raise the different types exception\n",
    "# 2. assert - raise only assertionerror based on condition"
   ]
  },
  {
   "cell_type": "markdown",
   "id": "c28dab96",
   "metadata": {},
   "source": [
    "# user induced exception"
   ]
  },
  {
   "cell_type": "code",
   "execution_count": 37,
   "id": "1d3d8dfa",
   "metadata": {},
   "outputs": [
    {
     "ename": "ZeroDivisionError",
     "evalue": "hello this is raised by shirly",
     "output_type": "error",
     "traceback": [
      "\u001b[1;31m---------------------------------------------------------------------------\u001b[0m",
      "\u001b[1;31mZeroDivisionError\u001b[0m                         Traceback (most recent call last)",
      "Cell \u001b[1;32mIn[37], line 2\u001b[0m\n\u001b[0;32m      1\u001b[0m \u001b[38;5;66;03m#raise #raise the different types exception\u001b[39;00m\n\u001b[1;32m----> 2\u001b[0m \u001b[38;5;28;01mraise\u001b[39;00m \u001b[38;5;167;01mZeroDivisionError\u001b[39;00m(\u001b[38;5;124m\"\u001b[39m\u001b[38;5;124mhello this is raised by shirly\u001b[39m\u001b[38;5;124m\"\u001b[39m)\n",
      "\u001b[1;31mZeroDivisionError\u001b[0m: hello this is raised by shirly"
     ]
    }
   ],
   "source": [
    "#raise #raise the different types exception\n",
    "raise ZeroDivisionError(\"hello this is raised by shirly\")"
   ]
  },
  {
   "cell_type": "code",
   "execution_count": 38,
   "id": "a7fd5f00",
   "metadata": {},
   "outputs": [
    {
     "ename": "FloatingPointError",
     "evalue": "hello this is raised by shirly",
     "output_type": "error",
     "traceback": [
      "\u001b[1;31m---------------------------------------------------------------------------\u001b[0m",
      "\u001b[1;31mFloatingPointError\u001b[0m                        Traceback (most recent call last)",
      "Cell \u001b[1;32mIn[38], line 1\u001b[0m\n\u001b[1;32m----> 1\u001b[0m \u001b[38;5;28;01mraise\u001b[39;00m \u001b[38;5;167;01mFloatingPointError\u001b[39;00m(\u001b[38;5;124m\"\u001b[39m\u001b[38;5;124mhello this is raised by shirly\u001b[39m\u001b[38;5;124m\"\u001b[39m)\n",
      "\u001b[1;31mFloatingPointError\u001b[0m: hello this is raised by shirly"
     ]
    }
   ],
   "source": [
    "raise FloatingPointError(\"hello this is raised by shirly\")"
   ]
  },
  {
   "cell_type": "code",
   "execution_count": 39,
   "id": "3f856e3c",
   "metadata": {},
   "outputs": [
    {
     "ename": "Exception",
     "evalue": "hello this is raised by shirly",
     "output_type": "error",
     "traceback": [
      "\u001b[1;31m---------------------------------------------------------------------------\u001b[0m",
      "\u001b[1;31mException\u001b[0m                                 Traceback (most recent call last)",
      "Cell \u001b[1;32mIn[39], line 1\u001b[0m\n\u001b[1;32m----> 1\u001b[0m \u001b[38;5;28;01mraise\u001b[39;00m \u001b[38;5;167;01mException\u001b[39;00m(\u001b[38;5;124m\"\u001b[39m\u001b[38;5;124mhello this is raised by shirly\u001b[39m\u001b[38;5;124m\"\u001b[39m)\n",
      "\u001b[1;31mException\u001b[0m: hello this is raised by shirly"
     ]
    }
   ],
   "source": [
    "raise Exception(\"hello this is raised by shirly\")"
   ]
  },
  {
   "cell_type": "code",
   "execution_count": 40,
   "id": "40f2a270",
   "metadata": {},
   "outputs": [],
   "source": [
    "# assert\n",
    "assert True"
   ]
  },
  {
   "cell_type": "code",
   "execution_count": 42,
   "id": "5cb2de53",
   "metadata": {},
   "outputs": [
    {
     "ename": "AssertionError",
     "evalue": "this is assertion error raised by shirly",
     "output_type": "error",
     "traceback": [
      "\u001b[1;31m---------------------------------------------------------------------------\u001b[0m",
      "\u001b[1;31mAssertionError\u001b[0m                            Traceback (most recent call last)",
      "Cell \u001b[1;32mIn[42], line 1\u001b[0m\n\u001b[1;32m----> 1\u001b[0m \u001b[38;5;28;01massert\u001b[39;00m \u001b[38;5;28;01mFalse\u001b[39;00m, (\u001b[38;5;124m\"\u001b[39m\u001b[38;5;124mthis is assertion error raised by shirly\u001b[39m\u001b[38;5;124m\"\u001b[39m)\n",
      "\u001b[1;31mAssertionError\u001b[0m: this is assertion error raised by shirly"
     ]
    }
   ],
   "source": [
    "assert False, (\"this is assertion error raised by shirly\")"
   ]
  },
  {
   "cell_type": "code",
   "execution_count": 50,
   "id": "d1a3445f",
   "metadata": {},
   "outputs": [
    {
     "ename": "AssertionError",
     "evalue": "number is not even!!!",
     "output_type": "error",
     "traceback": [
      "\u001b[1;31m---------------------------------------------------------------------------\u001b[0m",
      "\u001b[1;31mAssertionError\u001b[0m                            Traceback (most recent call last)",
      "Cell \u001b[1;32mIn[50], line 6\u001b[0m\n\u001b[0;32m      4\u001b[0m     \u001b[38;5;28mprint\u001b[39m(\u001b[38;5;124m\"\u001b[39m\u001b[38;5;124mEVEN!!!\u001b[39m\u001b[38;5;124m\"\u001b[39m)\n\u001b[0;32m      5\u001b[0m \u001b[38;5;28;01melif\u001b[39;00m num\u001b[38;5;241m%\u001b[39m\u001b[38;5;241m2\u001b[39m\u001b[38;5;241m!=\u001b[39m\u001b[38;5;241m0\u001b[39m:\n\u001b[1;32m----> 6\u001b[0m     \u001b[38;5;28;01mraise\u001b[39;00m \u001b[38;5;167;01mAssertionError\u001b[39;00m(\u001b[38;5;124m\"\u001b[39m\u001b[38;5;124mnumber is not even!!!\u001b[39m\u001b[38;5;124m\"\u001b[39m)\n",
      "\u001b[1;31mAssertionError\u001b[0m: number is not even!!!"
     ]
    }
   ],
   "source": [
    "# example even= True odd= false\n",
    "num=11\n",
    "if num%2==0:\n",
    "    print(\"EVEN!!!\")\n",
    "elif num%2!=0:\n",
    "    raise AssertionError(\"number is not even!!!\")\n",
    "    "
   ]
  },
  {
   "cell_type": "code",
   "execution_count": 46,
   "id": "ce3a8b30",
   "metadata": {},
   "outputs": [
    {
     "ename": "AssertionError",
     "evalue": "number is not even!!!",
     "output_type": "error",
     "traceback": [
      "\u001b[1;31m---------------------------------------------------------------------------\u001b[0m",
      "\u001b[1;31mAssertionError\u001b[0m                            Traceback (most recent call last)",
      "Cell \u001b[1;32mIn[46], line 2\u001b[0m\n\u001b[0;32m      1\u001b[0m num\u001b[38;5;241m=\u001b[39m\u001b[38;5;241m11\u001b[39m\n\u001b[1;32m----> 2\u001b[0m \u001b[38;5;28;01massert\u001b[39;00m num\u001b[38;5;241m%\u001b[39m\u001b[38;5;241m2\u001b[39m\u001b[38;5;241m==\u001b[39m\u001b[38;5;241m0\u001b[39m, (\u001b[38;5;124m\"\u001b[39m\u001b[38;5;124mnumber is not even!!!\u001b[39m\u001b[38;5;124m\"\u001b[39m)\n",
      "\u001b[1;31mAssertionError\u001b[0m: number is not even!!!"
     ]
    }
   ],
   "source": [
    "num=11\n",
    "assert num%2==0, (\"number is not even!!!\")"
   ]
  },
  {
   "cell_type": "code",
   "execution_count": 57,
   "id": "7675e751",
   "metadata": {},
   "outputs": [
    {
     "name": "stdout",
     "output_type": "stream",
     "text": [
      "number is not even!!!\n"
     ]
    }
   ],
   "source": [
    "try:\n",
    "    num=11\n",
    "    if num%2==0:\n",
    "        print(\"EVEN!!!\")\n",
    "    elif num%2!=0:\n",
    "        raise BaseException(\"number is not even!!!\")\n",
    "        \n",
    "except BaseException as msg:\n",
    "    print(msg)"
   ]
  },
  {
   "cell_type": "code",
   "execution_count": 59,
   "id": "38868076",
   "metadata": {},
   "outputs": [
    {
     "name": "stdout",
     "output_type": "stream",
     "text": [
      "number is not even!!!\n"
     ]
    }
   ],
   "source": [
    "try:\n",
    "    num=11\n",
    "    assert num%2==0, (\"number is not even!!!\")\n",
    "        \n",
    "except AssertionError as msg:\n",
    "    print(msg)"
   ]
  },
  {
   "cell_type": "markdown",
   "id": "7913343c",
   "metadata": {},
   "source": [
    "# Filehandling\n",
    "# mode - write, read, append\n",
    "# default read"
   ]
  },
  {
   "cell_type": "code",
   "execution_count": 63,
   "id": "67b88158",
   "metadata": {},
   "outputs": [],
   "source": [
    "# write data\n",
    "# if no file exsit it will craete a file\n",
    "# overwrite the content in file\n",
    "fh = open(\"text1.txt\", \"w\")\n",
    "fh.write(\"this is statement 1\\n\")\n",
    "fh.write(\"this is statement 2\\n\")\n",
    "fh.write(\"this is statement 3\\n\")\n",
    "fh.close()# saves the file"
   ]
  },
  {
   "cell_type": "code",
   "execution_count": 64,
   "id": "882c5e77",
   "metadata": {},
   "outputs": [],
   "source": [
    "# append data\n",
    "# if no file exsit it will craete a file and write the data\n",
    "# if file exsit it will append the content in file\n",
    "fh = open(\"text1.txt\", \"a\")\n",
    "fh.write(\"this is statement 4\\n\")\n",
    "fh.write(\"this is statement 5\\n\")\n",
    "fh.write(\"this is statement 6\\n\")\n",
    "fh.close()# saves the file"
   ]
  },
  {
   "cell_type": "code",
   "execution_count": 65,
   "id": "55aa691e",
   "metadata": {},
   "outputs": [],
   "source": [
    "# append data\n",
    "# if no file exsit it will craete a file and write the data\n",
    "# if file exsit it will append the content in file\n",
    "fh = open(\"text2.txt\", \"a\")\n",
    "fh.write(\"this is statement 4\\n\")\n",
    "fh.write(\"this is statement 5\\n\")\n",
    "fh.write(\"this is statement 6\\n\")\n",
    "fh.close()# saves the file"
   ]
  },
  {
   "cell_type": "code",
   "execution_count": 66,
   "id": "5bb752f2",
   "metadata": {},
   "outputs": [
    {
     "ename": "FileNotFoundError",
     "evalue": "[Errno 2] No such file or directory: 'text3.txt'",
     "output_type": "error",
     "traceback": [
      "\u001b[1;31m---------------------------------------------------------------------------\u001b[0m",
      "\u001b[1;31mFileNotFoundError\u001b[0m                         Traceback (most recent call last)",
      "Cell \u001b[1;32mIn[66], line 3\u001b[0m\n\u001b[0;32m      1\u001b[0m \u001b[38;5;66;03m# reading the data # default mode\u001b[39;00m\n\u001b[0;32m      2\u001b[0m \u001b[38;5;66;03m# no file exsiste\u001b[39;00m\n\u001b[1;32m----> 3\u001b[0m fh \u001b[38;5;241m=\u001b[39m \u001b[38;5;28mopen\u001b[39m(\u001b[38;5;124m\"\u001b[39m\u001b[38;5;124mtext3.txt\u001b[39m\u001b[38;5;124m\"\u001b[39m, \u001b[38;5;124m\"\u001b[39m\u001b[38;5;124mr\u001b[39m\u001b[38;5;124m\"\u001b[39m)\n\u001b[0;32m      4\u001b[0m fh\u001b[38;5;241m.\u001b[39mread()\n",
      "File \u001b[1;32mC:\\ProgramData\\anaconda3\\Lib\\site-packages\\IPython\\core\\interactiveshell.py:284\u001b[0m, in \u001b[0;36m_modified_open\u001b[1;34m(file, *args, **kwargs)\u001b[0m\n\u001b[0;32m    277\u001b[0m \u001b[38;5;28;01mif\u001b[39;00m file \u001b[38;5;129;01min\u001b[39;00m {\u001b[38;5;241m0\u001b[39m, \u001b[38;5;241m1\u001b[39m, \u001b[38;5;241m2\u001b[39m}:\n\u001b[0;32m    278\u001b[0m     \u001b[38;5;28;01mraise\u001b[39;00m \u001b[38;5;167;01mValueError\u001b[39;00m(\n\u001b[0;32m    279\u001b[0m         \u001b[38;5;124mf\u001b[39m\u001b[38;5;124m\"\u001b[39m\u001b[38;5;124mIPython won\u001b[39m\u001b[38;5;124m'\u001b[39m\u001b[38;5;124mt let you open fd=\u001b[39m\u001b[38;5;132;01m{\u001b[39;00mfile\u001b[38;5;132;01m}\u001b[39;00m\u001b[38;5;124m by default \u001b[39m\u001b[38;5;124m\"\u001b[39m\n\u001b[0;32m    280\u001b[0m         \u001b[38;5;124m\"\u001b[39m\u001b[38;5;124mas it is likely to crash IPython. If you know what you are doing, \u001b[39m\u001b[38;5;124m\"\u001b[39m\n\u001b[0;32m    281\u001b[0m         \u001b[38;5;124m\"\u001b[39m\u001b[38;5;124myou can use builtins\u001b[39m\u001b[38;5;124m'\u001b[39m\u001b[38;5;124m open.\u001b[39m\u001b[38;5;124m\"\u001b[39m\n\u001b[0;32m    282\u001b[0m     )\n\u001b[1;32m--> 284\u001b[0m \u001b[38;5;28;01mreturn\u001b[39;00m io_open(file, \u001b[38;5;241m*\u001b[39margs, \u001b[38;5;241m*\u001b[39m\u001b[38;5;241m*\u001b[39mkwargs)\n",
      "\u001b[1;31mFileNotFoundError\u001b[0m: [Errno 2] No such file or directory: 'text3.txt'"
     ]
    }
   ],
   "source": [
    "# reading the data # default mode\n",
    "# no file exsiste#FileNotFoundError\n",
    "fh = open(\"text3.txt\", \"r\")\n",
    "fh.read()\n"
   ]
  },
  {
   "cell_type": "code",
   "execution_count": 74,
   "id": "848076f7",
   "metadata": {},
   "outputs": [
    {
     "name": "stdout",
     "output_type": "stream",
     "text": [
      "this is statement 1\n",
      "this is statement 2\n",
      "this is statement 3\n",
      "this is statement 4\n",
      "this is statement 5\n",
      "this is statement 6\n",
      "\n",
      "<class 'str'>\n"
     ]
    }
   ],
   "source": [
    "# reading the data # default mode\n",
    "# file exsiste\n",
    "fh = open(\"text1.txt\")\n",
    "var = fh.read() # string # whole content\n",
    "print(var)\n",
    "print(type(var))"
   ]
  },
  {
   "cell_type": "code",
   "execution_count": 79,
   "id": "8c82e08c",
   "metadata": {},
   "outputs": [
    {
     "name": "stdout",
     "output_type": "stream",
     "text": [
      "this is statement 1\n",
      "\n",
      "this is statement 2\n",
      "\n",
      "this is statement 3\n",
      "\n",
      "this is statement 4\n",
      "\n",
      "this is statement 5\n",
      "\n",
      "this is statement 6\n",
      "\n",
      "\n",
      "\n"
     ]
    }
   ],
   "source": [
    "fh = open(\"text1.txt\")\n",
    "print(fh.readline()) #first line\n",
    "print(fh.readline()) # 2nd line\n",
    "print(fh.readline()) # 3rd line\n",
    "print(fh.readline()) # 4nd line\n",
    "print(fh.readline()) # 5nd line\n",
    "print(fh.readline()) # 6nd line\n",
    "print(fh.readline()) # 7nd line\n",
    "print(fh.readline()) # 7nd line"
   ]
  },
  {
   "cell_type": "code",
   "execution_count": 80,
   "id": "468f8cb0",
   "metadata": {},
   "outputs": [
    {
     "name": "stdout",
     "output_type": "stream",
     "text": [
      "['this is statement 1\\n', 'this is statement 2\\n', 'this is statement 3\\n', 'this is statement 4\\n', 'this is statement 5\\n', 'this is statement 6\\n']\n"
     ]
    }
   ],
   "source": [
    "fh = open(\"text1.txt\")\n",
    "print(fh.readlines()) # list"
   ]
  },
  {
   "cell_type": "markdown",
   "id": "662d22b0",
   "metadata": {},
   "source": [
    "# with "
   ]
  },
  {
   "cell_type": "code",
   "execution_count": 81,
   "id": "370410b8",
   "metadata": {},
   "outputs": [],
   "source": [
    "# fh = open(\"text1.txt\", \"a\")\n",
    "with open(\"text2.txt\", \"a\") as fh:\n",
    "    fh.write(\"this is statement 7\\n\")\n",
    "    fh.write(\"this is statement 8\\n\")\n",
    "    fh.write(\"this is statement 9\\n\")\n",
    "#fh.close() # with keyword automatically saves the file"
   ]
  },
  {
   "cell_type": "code",
   "execution_count": 82,
   "id": "51ba1b86",
   "metadata": {},
   "outputs": [
    {
     "name": "stdout",
     "output_type": "stream",
     "text": [
      "this is statement 4\n",
      "this is statement 5\n",
      "this is statement 6\n",
      "this is statement 7\n",
      "this is statement 8\n",
      "this is statement 9\n",
      "\n"
     ]
    }
   ],
   "source": [
    "with open(\"text2.txt\", \"r\") as fh:\n",
    "    print(fh.read())"
   ]
  },
  {
   "cell_type": "code",
   "execution_count": 87,
   "id": "e6b6e201",
   "metadata": {},
   "outputs": [
    {
     "name": "stdout",
     "output_type": "stream",
     "text": [
      "['this is statement 4\\n', 'this is statement 5\\n', 'this is statement 6\\n', 'this is statement 7\\n', 'this is statement 8\\n', 'this is statement 9\\n']\n"
     ]
    }
   ],
   "source": [
    "# reverse every line using file handling\n",
    "with open(\"text2.txt\", \"r\") as reader:\n",
    "    lines = reader.readlines()\n",
    "    \n",
    "print(lines)\n",
    "for line in lines:\n",
    "    with open(\"text3_reverse.txt\", \"a\") as writer:\n",
    "        writer.write(line[::-1])"
   ]
  },
  {
   "cell_type": "code",
   "execution_count": null,
   "id": "d56b3721",
   "metadata": {},
   "outputs": [],
   "source": []
  }
 ],
 "metadata": {
  "kernelspec": {
   "display_name": "Python 3 (ipykernel)",
   "language": "python",
   "name": "python3"
  },
  "language_info": {
   "codemirror_mode": {
    "name": "ipython",
    "version": 3
   },
   "file_extension": ".py",
   "mimetype": "text/x-python",
   "name": "python",
   "nbconvert_exporter": "python",
   "pygments_lexer": "ipython3",
   "version": "3.11.4"
  }
 },
 "nbformat": 4,
 "nbformat_minor": 5
}
