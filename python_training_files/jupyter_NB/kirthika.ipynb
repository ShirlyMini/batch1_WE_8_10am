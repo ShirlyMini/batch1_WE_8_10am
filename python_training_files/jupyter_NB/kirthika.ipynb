{
 "cells": [
  {
   "cell_type": "code",
   "execution_count": 1,
   "id": "3b3851c5",
   "metadata": {},
   "outputs": [],
   "source": [
    "# python console\n",
    "# run: shift +enter"
   ]
  },
  {
   "cell_type": "code",
   "execution_count": 2,
   "id": "a886f956",
   "metadata": {},
   "outputs": [
    {
     "name": "stdout",
     "output_type": "stream",
     "text": [
      "hello python\n"
     ]
    }
   ],
   "source": [
    "print(\"hello python\")"
   ]
  },
  {
   "cell_type": "code",
   "execution_count": null,
   "id": "9683c643",
   "metadata": {},
   "outputs": [],
   "source": [
    "# inhertance\n",
    "\n",
    " # accquiring all the properties in one class to another class\n",
    "    "
   ]
  },
  {
   "cell_type": "code",
   "execution_count": 3,
   "id": "0d1f2688",
   "metadata": {},
   "outputs": [
    {
     "name": "stdout",
     "output_type": "stream",
     "text": [
      "method of parent class\n",
      "method of child class\n"
     ]
    }
   ],
   "source": [
    "# single inheritance\n",
    "class parent:\n",
    "    def m1(self):\n",
    "        print(\"method of parent class\")\n",
    "        \n",
    "class child(parent):\n",
    "    def m2(self):\n",
    "        print(\"method of child class\")\n",
    "        \n",
    "obj=child()\n",
    "obj.m1()\n",
    "obj.m2()"
   ]
  },
  {
   "cell_type": "code",
   "execution_count": 4,
   "id": "ecf8eeac",
   "metadata": {},
   "outputs": [
    {
     "name": "stdout",
     "output_type": "stream",
     "text": [
      "method of parent1 class\n",
      "method of parent2 class\n",
      "method of child class\n"
     ]
    }
   ],
   "source": [
    "# multiple iheritance\n",
    "class parent1:\n",
    "    def m1(self):\n",
    "        print(\"method of parent1 class\")\n",
    "        \n",
    "class parent2:\n",
    "    def m2(self):\n",
    "        print(\"method of parent2 class\")\n",
    "        \n",
    "class child(parent1,parent2):\n",
    "    def m3(self):\n",
    "        print(\"method of child class\")\n",
    "        \n",
    "obj=child()\n",
    "obj.m1()\n",
    "obj.m2()\n",
    "obj.m3()"
   ]
  },
  {
   "cell_type": "code",
   "execution_count": 7,
   "id": "a4435aa1",
   "metadata": {},
   "outputs": [
    {
     "name": "stdout",
     "output_type": "stream",
     "text": [
      "method of parent2 class\n"
     ]
    }
   ],
   "source": [
    "# multiple iheritance\n",
    "class parent1:\n",
    "    def m1(self):\n",
    "        print(\"method of parent1 class\")\n",
    "        \n",
    "class parent2:\n",
    "    def m1(self):\n",
    "        print(\"method of parent2 class\")\n",
    "# MRO\n",
    "# 1) child-->parent1---> parent2\n",
    "class child(parent2,parent1):\n",
    "    def m2(self):\n",
    "        print(\"method of child class\")\n",
    "        \n",
    "obj=child()\n",
    "obj.m1()"
   ]
  },
  {
   "cell_type": "code",
   "execution_count": 9,
   "id": "be3c9cb8",
   "metadata": {},
   "outputs": [
    {
     "name": "stdout",
     "output_type": "stream",
     "text": [
      "method of child class\n",
      "method of parent1 class\n",
      "method of parent2 class\n"
     ]
    }
   ],
   "source": [
    "# multiple iheritance\n",
    "class parent1:\n",
    "    def m1(self):\n",
    "        print(\"method of parent1 class\")\n",
    "        \n",
    "class parent2:\n",
    "    def m1(self):\n",
    "        print(\"method of parent2 class\")\n",
    "# MRO\n",
    "# 1) child-->parent1---> parent2\n",
    "class child(parent2,parent1):\n",
    "    def m2(self):\n",
    "        print(\"method of child class\")\n",
    "        # explicit method\n",
    "        parent1.m1(self)\n",
    "        parent2.m1(self)\n",
    "        \n",
    "obj=child()\n",
    "obj.m2()"
   ]
  },
  {
   "cell_type": "code",
   "execution_count": 10,
   "id": "6126ee70",
   "metadata": {},
   "outputs": [
    {
     "name": "stdout",
     "output_type": "stream",
     "text": [
      "method of parent1 class\n",
      "method of parent2 class\n",
      "method of child class\n"
     ]
    }
   ],
   "source": [
    "# multiple level iheritance\n",
    "class parent1:\n",
    "    def m1(self):\n",
    "        print(\"method of parent1 class\")\n",
    "        \n",
    "class parent2(parent1):\n",
    "    def m2(self):\n",
    "        print(\"method of parent2 class\")\n",
    "        \n",
    "class child(parent2):\n",
    "    def m3(self):\n",
    "        print(\"method of child class\")\n",
    "        \n",
    "obj=child()\n",
    "obj.m1()\n",
    "obj.m2()\n",
    "obj.m3()"
   ]
  },
  {
   "cell_type": "code",
   "execution_count": 13,
   "id": "4e6703d2",
   "metadata": {},
   "outputs": [
    {
     "name": "stdout",
     "output_type": "stream",
     "text": [
      "method of child1 class\n",
      "method of parent class\n",
      "method of child2 class\n"
     ]
    },
    {
     "ename": "AttributeError",
     "evalue": "'child2' object has no attribute 'm2'",
     "output_type": "error",
     "traceback": [
      "\u001b[1;31m---------------------------------------------------------------------------\u001b[0m",
      "\u001b[1;31mAttributeError\u001b[0m                            Traceback (most recent call last)",
      "Cell \u001b[1;32mIn[13], line 19\u001b[0m\n\u001b[0;32m     17\u001b[0m obj2\u001b[38;5;241m=\u001b[39mchild2()\n\u001b[0;32m     18\u001b[0m obj2\u001b[38;5;241m.\u001b[39mm3()\n\u001b[1;32m---> 19\u001b[0m obj2\u001b[38;5;241m.\u001b[39mm2()\n\u001b[0;32m     20\u001b[0m obj2\u001b[38;5;241m.\u001b[39mm1()\n",
      "\u001b[1;31mAttributeError\u001b[0m: 'child2' object has no attribute 'm2'"
     ]
    }
   ],
   "source": [
    "# hirercial level iheritance\n",
    "class parent:\n",
    "    def m1(self):\n",
    "        print(\"method of parent class\")\n",
    "        \n",
    "class child1(parent):\n",
    "    def m2(self):\n",
    "        print(\"method of child1 class\")\n",
    "        \n",
    "class child2(parent):\n",
    "    def m3(self):\n",
    "        print(\"method of child2 class\")\n",
    "        \n",
    "obj1=child1()\n",
    "obj1.m2()\n",
    "obj1.m1()\n",
    "obj2=child2()\n",
    "obj2.m3()\n",
    "obj2.m2() #AttributeError: 'child2' object has no attribute 'm2'\n",
    "obj2.m1()"
   ]
  },
  {
   "cell_type": "code",
   "execution_count": 14,
   "id": "43139e37",
   "metadata": {},
   "outputs": [],
   "source": [
    "# interview practice\n",
    "# https://pynative.com/python-exercises-with-solutions/\n",
    "# https://www.geeksforgeeks.org/\n",
    "# lab\n",
    "# fib, palindorme, remove dup, sort algori, pa\n",
    "# practice python #https://www.hackerrank.com/ # spend 1 hour"
   ]
  },
  {
   "cell_type": "code",
   "execution_count": null,
   "id": "4b9d27af",
   "metadata": {},
   "outputs": [],
   "source": [
    "# decorator = annotation(java)\n",
    "@staticmethod\n",
    "# selenium + python\n",
    "# framework = pytest java-testng\n",
    "# BDD = behave java-cucumber\n",
    "# selenium write locators\n",
    "# "
   ]
  }
 ],
 "metadata": {
  "kernelspec": {
   "display_name": "Python 3 (ipykernel)",
   "language": "python",
   "name": "python3"
  },
  "language_info": {
   "codemirror_mode": {
    "name": "ipython",
    "version": 3
   },
   "file_extension": ".py",
   "mimetype": "text/x-python",
   "name": "python",
   "nbconvert_exporter": "python",
   "pygments_lexer": "ipython3",
   "version": "3.11.4"
  }
 },
 "nbformat": 4,
 "nbformat_minor": 5
}
